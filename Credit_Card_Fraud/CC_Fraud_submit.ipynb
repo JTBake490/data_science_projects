{
 "cells": [
  {
   "cell_type": "markdown",
   "metadata": {},
   "source": [
    "#### The objective is to corrently classify fraudulent transactions from legitimate transactions."
   ]
  },
  {
   "cell_type": "code",
   "execution_count": 1,
   "metadata": {},
   "outputs": [
    {
     "name": "stderr",
     "output_type": "stream",
     "text": [
      "/anaconda3/envs/metis/lib/python3.6/site-packages/sklearn/externals/six.py:31: DeprecationWarning: The module is deprecated in version 0.21 and will be removed in version 0.23 since we've dropped support for Python 2.7. Please rely on the official version of six (https://pypi.org/project/six/).\n",
      "  \"(https://pypi.org/project/six/).\", DeprecationWarning)\n"
     ]
    }
   ],
   "source": [
    "%matplotlib inline\n",
    "import numpy as np\n",
    "import pandas as pd\n",
    "import matplotlib.pyplot as plt\n",
    "import seaborn as sns\n",
    "\n",
    "from sklearn.model_selection import train_test_split\n",
    "from sklearn.metrics import accuracy_score, precision_score, f1_score, recall_score, confusion_matrix, roc_auc_score, precision_recall_curve, roc_curve\n",
    "from sklearn.neighbors import KNeighborsClassifier\n",
    "from sklearn.dummy import DummyClassifier\n",
    "from sklearn.linear_model import LogisticRegression\n",
    "from sklearn.naive_bayes import GaussianNB\n",
    "from sklearn.tree import DecisionTreeClassifier\n",
    "from sklearn.ensemble import RandomForestClassifier\n",
    "from sklearn.svm import LinearSVC\n",
    "from sklearn import preprocessing\n",
    "from sklearn.model_selection import KFold, cross_val_predict, cross_val_score\n",
    "\n",
    "from imblearn.over_sampling import RandomOverSampler\n",
    "from imblearn.under_sampling import RandomUnderSampler\n",
    "from imblearn.pipeline import make_pipeline as make_pipeline_imb"
   ]
  },
  {
   "cell_type": "code",
   "execution_count": 2,
   "metadata": {},
   "outputs": [],
   "source": [
    "#Import the file into a Pandas DataFrame as cc (stands for credit cards)\n",
    "cc = pd.read_csv('creditcard.csv')"
   ]
  },
  {
   "cell_type": "code",
   "execution_count": 3,
   "metadata": {},
   "outputs": [
    {
     "name": "stdout",
     "output_type": "stream",
     "text": [
      "0    284315\n",
      "1       492\n",
      "Name: Class, dtype: int64\n"
     ]
    },
    {
     "data": {
      "image/png": "[encoded data removed]",
      "text/plain": [
       "<Figure size 432x288 with 1 Axes>"
      ]
     },
     "metadata": {
      "needs_background": "light"
     },
     "output_type": "display_data"
    }
   ],
   "source": [
    "#The data is increadibly inbalanced. This indicates that over/under sampling is needed.\n",
    "print(cc.Class.value_counts());\n",
    "sns.countplot(cc.Class);"
   ]
  },
  {
   "cell_type": "markdown",
   "metadata": {},
   "source": [
    "#### Naive Models"
   ]
  },
  {
   "cell_type": "code",
   "execution_count": 4,
   "metadata": {},
   "outputs": [],
   "source": [
    "#Starting out with a naive train_test_split\n",
    "X = cc.drop(columns='Class')\n",
    "y = cc['Class']\n",
    "X_train, X_test, y_train, y_test = train_test_split(X, y, test_size=0.25, random_state=7)"
   ]
  },
  {
   "cell_type": "code",
   "execution_count": 5,
   "metadata": {},
   "outputs": [
    {
     "data": {
      "text/plain": [
       "[0.9981180303924047,\n",
       " 0.9983708322799921,\n",
       " 0.9983286986320609,\n",
       " 0.9983427431813713,\n",
       " 0.9983427431813713,\n",
       " 0.9982865649841297,\n",
       " 0.9982725204348193,\n",
       " 0.9982584758855089,\n",
       " 0.9982725204348193,\n",
       " 0.9982584758855089]"
      ]
     },
     "execution_count": 5,
     "metadata": {},
     "output_type": "execute_result"
    }
   ],
   "source": [
    "#Run models without any feature engineering or over/undersampling.\n",
    "scores = []\n",
    "for k in range(1,11):\n",
    "    knn = KNeighborsClassifier(n_neighbors=k)\n",
    "    knn.fit(X_train, y_train)\n",
    "    y_kpred = knn.predict(X_test)\n",
    "    scores.append(accuracy_score(y_test, y_kpred))\n",
    "    \n",
    "# The KNN accuracy scores (and accuracy scores in general) tell me nothing.\n",
    "scores"
   ]
  },
  {
   "cell_type": "code",
   "execution_count": 6,
   "metadata": {},
   "outputs": [
    {
     "name": "stdout",
     "output_type": "stream",
     "text": [
      "0.9966152636161906\n",
      "0.008547008547008548\n",
      "0.007936507936507936\n"
     ]
    }
   ],
   "source": [
    "#The Dummy Classifier confirms my suspicions. Accuracy scores should not be taken into consideration.\n",
    "#Precision and recall are better metrics for classifing credit card fraud.\n",
    "DC = DummyClassifier(random_state=7)\n",
    "DC.fit(X_train, y_train)\n",
    "y_pred = DC.predict(X_test)\n",
    "print(accuracy_score(y_test, y_pred))\n",
    "print(precision_score(y_test, y_pred))\n",
    "print(recall_score(y_test, y_pred))"
   ]
  },
  {
   "cell_type": "code",
   "execution_count": 7,
   "metadata": {},
   "outputs": [
    {
     "name": "stderr",
     "output_type": "stream",
     "text": [
      "/anaconda3/envs/metis/lib/python3.6/site-packages/sklearn/linear_model/logistic.py:432: FutureWarning: Default solver will be changed to 'lbfgs' in 0.22. Specify a solver to silence this warning.\n",
      "  FutureWarning)\n"
     ]
    },
    {
     "name": "stdout",
     "output_type": "stream",
     "text": [
      "0.7058823529411765\n",
      "0.5714285714285714\n"
     ]
    }
   ],
   "source": [
    "logreg = LogisticRegression(random_state=7)\n",
    "logreg.fit(X_train, y_train)\n",
    "y_lpred = logreg.predict(X_test)\n",
    "\n",
    "print(precision_score(y_test, y_lpred))\n",
    "print(recall_score(y_test, y_lpred))"
   ]
  },
  {
   "cell_type": "code",
   "execution_count": 8,
   "metadata": {},
   "outputs": [
    {
     "data": {
      "text/plain": [
       "<matplotlib.axes._subplots.AxesSubplot at 0x1a23b9a390>"
      ]
     },
     "execution_count": 8,
     "metadata": {},
     "output_type": "execute_result"
    },
    {
     "data": {
      "image/png": "[encoded data removed]",
      "text/plain": [
       "<Figure size 432x288 with 2 Axes>"
      ]
     },
     "metadata": {
      "needs_background": "light"
     },
     "output_type": "display_data"
    }
   ],
   "source": [
    "#Logistic Regression does not perform well without any tampering. Has a hard time picking True positives\n",
    "logreg_confusion = confusion_matrix(y_test,y_lpred)\n",
    "sns.heatmap(logreg_confusion,cmap=plt.cm.Reds, annot=True, square=True)"
   ]
  },
  {
   "cell_type": "code",
   "execution_count": 9,
   "metadata": {},
   "outputs": [
    {
     "name": "stdout",
     "output_type": "stream",
     "text": [
      "0.14590747330960854\n",
      "0.6507936507936508\n"
     ]
    }
   ],
   "source": [
    "NB = GaussianNB()\n",
    "NB.fit(X_train, y_train)\n",
    "y_nbpred = NB.predict(X_test)\n",
    "\n",
    "print(precision_score(y_test, y_nbpred))\n",
    "print(recall_score(y_test, y_nbpred))"
   ]
  },
  {
   "cell_type": "code",
   "execution_count": 10,
   "metadata": {},
   "outputs": [
    {
     "data": {
      "text/plain": [
       "<matplotlib.axes._subplots.AxesSubplot at 0x1a248da278>"
      ]
     },
     "execution_count": 10,
     "metadata": {},
     "output_type": "execute_result"
    },
    {
     "data": {
      "image/png": "[encoded data removed]",
      "text/plain": [
       "<Figure size 432x288 with 2 Axes>"
      ]
     },
     "metadata": {
      "needs_background": "light"
     },
     "output_type": "display_data"
    }
   ],
   "source": [
    "#Naive Bays predicts too many false positives.\n",
    "NB_confusion = confusion_matrix(y_test,y_nbpred)\n",
    "sns.heatmap(NB_confusion, cmap=plt.cm.Reds, annot=True, square=True)"
   ]
  },
  {
   "cell_type": "code",
   "execution_count": 11,
   "metadata": {},
   "outputs": [
    {
     "name": "stdout",
     "output_type": "stream",
     "text": [
      "0.7538461538461538\n",
      "0.7777777777777778\n"
     ]
    }
   ],
   "source": [
    "#I know that the Decision Tree Classifier has a tendency to overfit. I should be cautious with the metrics.\n",
    "DTC = DecisionTreeClassifier(random_state=7)\n",
    "DTC.fit(X_train, y_train)\n",
    "y_dtcpred = DTC.predict(X_test)\n",
    "\n",
    "print(precision_score(y_test, y_dtcpred))\n",
    "print(recall_score(y_test, y_dtcpred))"
   ]
  },
  {
   "cell_type": "code",
   "execution_count": 12,
   "metadata": {},
   "outputs": [
    {
     "name": "stderr",
     "output_type": "stream",
     "text": [
      "/anaconda3/envs/metis/lib/python3.6/site-packages/sklearn/ensemble/forest.py:245: FutureWarning: The default value of n_estimators will change from 10 in version 0.20 to 100 in 0.22.\n",
      "  \"10 in version 0.20 to 100 in 0.22.\", FutureWarning)\n"
     ]
    },
    {
     "name": "stdout",
     "output_type": "stream",
     "text": [
      "0.908256880733945\n",
      "0.7857142857142857\n"
     ]
    }
   ],
   "source": [
    "#Ensembling returns higher scores but it's still not great. There are fewer false positives and false negatives\n",
    "#but still a significant lack of True Positives.\n",
    "RFC = RandomForestClassifier(random_state=7)\n",
    "RFC.fit(X_train, y_train)\n",
    "y_rfcpred = RFC.predict(X_test)\n",
    "\n",
    "print(precision_score(y_test, y_rfcpred))\n",
    "print(recall_score(y_test, y_rfcpred))"
   ]
  },
  {
   "cell_type": "code",
   "execution_count": 13,
   "metadata": {},
   "outputs": [
    {
     "data": {
      "text/plain": [
       "<matplotlib.axes._subplots.AxesSubplot at 0x1a242c3400>"
      ]
     },
     "execution_count": 13,
     "metadata": {},
     "output_type": "execute_result"
    },
    {
     "data": {
      "image/png": "[encoded data removed]",
      "text/plain": [
       "<Figure size 432x288 with 2 Axes>"
      ]
     },
     "metadata": {
      "needs_background": "light"
     },
     "output_type": "display_data"
    }
   ],
   "source": [
    "RFC_confusion = confusion_matrix(y_test,y_rfcpred)\n",
    "sns.heatmap(RFC_confusion, cmap=plt.cm.Reds, annot=True, square=True)"
   ]
  },
  {
   "cell_type": "code",
   "execution_count": 14,
   "metadata": {},
   "outputs": [
    {
     "data": {
      "text/html": [
       "<div>\n",
       "<style scoped>\n",
       "    .dataframe tbody tr th:only-of-type {\n",
       "        vertical-align: middle;\n",
       "    }\n",
       "\n",
       "    .dataframe tbody tr th {\n",
       "        vertical-align: top;\n",
       "    }\n",
       "\n",
       "    .dataframe thead th {\n",
       "        text-align: right;\n",
       "    }\n",
       "</style>\n",
       "<table border=\"1\" class=\"dataframe\">\n",
       "  <thead>\n",
       "    <tr style=\"text-align: right;\">\n",
       "      <th></th>\n",
       "      <th>importance</th>\n",
       "    </tr>\n",
       "  </thead>\n",
       "  <tbody>\n",
       "    <tr>\n",
       "      <th>V14</th>\n",
       "      <td>0.191513</td>\n",
       "    </tr>\n",
       "    <tr>\n",
       "      <th>V10</th>\n",
       "      <td>0.134384</td>\n",
       "    </tr>\n",
       "    <tr>\n",
       "      <th>V16</th>\n",
       "      <td>0.092371</td>\n",
       "    </tr>\n",
       "    <tr>\n",
       "      <th>V12</th>\n",
       "      <td>0.070892</td>\n",
       "    </tr>\n",
       "    <tr>\n",
       "      <th>V17</th>\n",
       "      <td>0.070127</td>\n",
       "    </tr>\n",
       "    <tr>\n",
       "      <th>V9</th>\n",
       "      <td>0.068363</td>\n",
       "    </tr>\n",
       "    <tr>\n",
       "      <th>V11</th>\n",
       "      <td>0.063322</td>\n",
       "    </tr>\n",
       "    <tr>\n",
       "      <th>V4</th>\n",
       "      <td>0.038976</td>\n",
       "    </tr>\n",
       "    <tr>\n",
       "      <th>V6</th>\n",
       "      <td>0.038896</td>\n",
       "    </tr>\n",
       "    <tr>\n",
       "      <th>V7</th>\n",
       "      <td>0.029901</td>\n",
       "    </tr>\n",
       "    <tr>\n",
       "      <th>V20</th>\n",
       "      <td>0.017438</td>\n",
       "    </tr>\n",
       "    <tr>\n",
       "      <th>V2</th>\n",
       "      <td>0.014386</td>\n",
       "    </tr>\n",
       "    <tr>\n",
       "      <th>V26</th>\n",
       "      <td>0.013636</td>\n",
       "    </tr>\n",
       "    <tr>\n",
       "      <th>V13</th>\n",
       "      <td>0.013010</td>\n",
       "    </tr>\n",
       "    <tr>\n",
       "      <th>V27</th>\n",
       "      <td>0.012859</td>\n",
       "    </tr>\n",
       "    <tr>\n",
       "      <th>V19</th>\n",
       "      <td>0.011388</td>\n",
       "    </tr>\n",
       "    <tr>\n",
       "      <th>V21</th>\n",
       "      <td>0.011285</td>\n",
       "    </tr>\n",
       "    <tr>\n",
       "      <th>V22</th>\n",
       "      <td>0.010965</td>\n",
       "    </tr>\n",
       "    <tr>\n",
       "      <th>V8</th>\n",
       "      <td>0.010929</td>\n",
       "    </tr>\n",
       "    <tr>\n",
       "      <th>V5</th>\n",
       "      <td>0.009008</td>\n",
       "    </tr>\n",
       "    <tr>\n",
       "      <th>V1</th>\n",
       "      <td>0.008879</td>\n",
       "    </tr>\n",
       "    <tr>\n",
       "      <th>V18</th>\n",
       "      <td>0.008830</td>\n",
       "    </tr>\n",
       "    <tr>\n",
       "      <th>V24</th>\n",
       "      <td>0.008777</td>\n",
       "    </tr>\n",
       "    <tr>\n",
       "      <th>V15</th>\n",
       "      <td>0.008664</td>\n",
       "    </tr>\n",
       "    <tr>\n",
       "      <th>V25</th>\n",
       "      <td>0.008643</td>\n",
       "    </tr>\n",
       "    <tr>\n",
       "      <th>V3</th>\n",
       "      <td>0.008579</td>\n",
       "    </tr>\n",
       "    <tr>\n",
       "      <th>Time</th>\n",
       "      <td>0.006883</td>\n",
       "    </tr>\n",
       "    <tr>\n",
       "      <th>V28</th>\n",
       "      <td>0.006869</td>\n",
       "    </tr>\n",
       "    <tr>\n",
       "      <th>Amount</th>\n",
       "      <td>0.006619</td>\n",
       "    </tr>\n",
       "    <tr>\n",
       "      <th>V23</th>\n",
       "      <td>0.003608</td>\n",
       "    </tr>\n",
       "  </tbody>\n",
       "</table>\n",
       "</div>"
      ],
      "text/plain": [
       "        importance\n",
       "V14       0.191513\n",
       "V10       0.134384\n",
       "V16       0.092371\n",
       "V12       0.070892\n",
       "V17       0.070127\n",
       "V9        0.068363\n",
       "V11       0.063322\n",
       "V4        0.038976\n",
       "V6        0.038896\n",
       "V7        0.029901\n",
       "V20       0.017438\n",
       "V2        0.014386\n",
       "V26       0.013636\n",
       "V13       0.013010\n",
       "V27       0.012859\n",
       "V19       0.011388\n",
       "V21       0.011285\n",
       "V22       0.010965\n",
       "V8        0.010929\n",
       "V5        0.009008\n",
       "V1        0.008879\n",
       "V18       0.008830\n",
       "V24       0.008777\n",
       "V15       0.008664\n",
       "V25       0.008643\n",
       "V3        0.008579\n",
       "Time      0.006883\n",
       "V28       0.006869\n",
       "Amount    0.006619\n",
       "V23       0.003608"
      ]
     },
     "execution_count": 14,
     "metadata": {},
     "output_type": "execute_result"
    }
   ],
   "source": [
    "feature_importances = pd.DataFrame(RFC.feature_importances_, index = X_train.columns, columns=['importance']).sort_values('importance',  ascending=False)\n",
    "feature_importances"
   ]
  },
  {
   "cell_type": "code",
   "execution_count": 15,
   "metadata": {},
   "outputs": [
    {
     "name": "stdout",
     "output_type": "stream",
     "text": [
      "0.6190476190476191\n",
      "0.10317460317460317\n"
     ]
    },
    {
     "name": "stderr",
     "output_type": "stream",
     "text": [
      "/anaconda3/envs/metis/lib/python3.6/site-packages/sklearn/svm/base.py:929: ConvergenceWarning: Liblinear failed to converge, increase the number of iterations.\n",
      "  \"the number of iterations.\", ConvergenceWarning)\n"
     ]
    }
   ],
   "source": [
    "#One more test before messing with the imported data.\n",
    "svc = LinearSVC(random_state=7)\n",
    "svc.fit(X_train, y_train)\n",
    "y_svcpred = svc.predict(X_test)\n",
    "\n",
    "print(precision_score(y_test, y_svcpred))\n",
    "print(recall_score(y_test, y_svcpred))"
   ]
  },
  {
   "cell_type": "code",
   "execution_count": 16,
   "metadata": {},
   "outputs": [
    {
     "data": {
      "text/plain": [
       "<matplotlib.axes._subplots.AxesSubplot at 0x1a25108f98>"
      ]
     },
     "execution_count": 16,
     "metadata": {},
     "output_type": "execute_result"
    },
    {
     "data": {
      "image/png": "[encoded data removed]",
      "text/plain": [
       "<Figure size 432x288 with 2 Axes>"
      ]
     },
     "metadata": {
      "needs_background": "light"
     },
     "output_type": "display_data"
    }
   ],
   "source": [
    "#As the heat map shows, LinearSVC gives too many false negatives(people with fraud recording as ligitimate.)\n",
    "#Only 13 True positives.\n",
    "svc_confusion = confusion_matrix(y_test, y_svcpred)\n",
    "sns.heatmap(svc_confusion, cmap=plt.cm.Reds, annot=True, square=True)"
   ]
  },
  {
   "cell_type": "code",
   "execution_count": null,
   "metadata": {},
   "outputs": [],
   "source": []
  },
  {
   "cell_type": "markdown",
   "metadata": {},
   "source": [
    "First I will create an 'Hours' in the day to give a better perspective. This will give me insight if Time really is not that important."
   ]
  },
  {
   "cell_type": "code",
   "execution_count": 17,
   "metadata": {},
   "outputs": [
    {
     "data": {
      "text/html": [
       "<div>\n",
       "<style scoped>\n",
       "    .dataframe tbody tr th:only-of-type {\n",
       "        vertical-align: middle;\n",
       "    }\n",
       "\n",
       "    .dataframe tbody tr th {\n",
       "        vertical-align: top;\n",
       "    }\n",
       "\n",
       "    .dataframe thead th {\n",
       "        text-align: right;\n",
       "    }\n",
       "</style>\n",
       "<table border=\"1\" class=\"dataframe\">\n",
       "  <thead>\n",
       "    <tr style=\"text-align: right;\">\n",
       "      <th>Class</th>\n",
       "      <th>0</th>\n",
       "      <th>1</th>\n",
       "    </tr>\n",
       "    <tr>\n",
       "      <th>Hour</th>\n",
       "      <th></th>\n",
       "      <th></th>\n",
       "    </tr>\n",
       "  </thead>\n",
       "  <tbody>\n",
       "    <tr>\n",
       "      <th>0.0</th>\n",
       "      <td>10919</td>\n",
       "      <td>21</td>\n",
       "    </tr>\n",
       "    <tr>\n",
       "      <th>1.0</th>\n",
       "      <td>7687</td>\n",
       "      <td>6</td>\n",
       "    </tr>\n",
       "    <tr>\n",
       "      <th>2.0</th>\n",
       "      <td>4212</td>\n",
       "      <td>10</td>\n",
       "    </tr>\n",
       "    <tr>\n",
       "      <th>3.0</th>\n",
       "      <td>3269</td>\n",
       "      <td>57</td>\n",
       "    </tr>\n",
       "    <tr>\n",
       "      <th>4.0</th>\n",
       "      <td>3476</td>\n",
       "      <td>17</td>\n",
       "    </tr>\n",
       "  </tbody>\n",
       "</table>\n",
       "</div>"
      ],
      "text/plain": [
       "Class      0   1\n",
       "Hour            \n",
       "0.0    10919  21\n",
       "1.0     7687   6\n",
       "2.0     4212  10\n",
       "3.0     3269  57\n",
       "4.0     3476  17"
      ]
     },
     "execution_count": 17,
     "metadata": {},
     "output_type": "execute_result"
    }
   ],
   "source": [
    "cc['Hour'] = cc['Time'].apply(lambda x: np.ceil(float(x)/3600) % 24)\n",
    "cc.pivot_table(values='Amount',index='Hour',columns='Class',aggfunc='count').head()"
   ]
  },
  {
   "cell_type": "code",
   "execution_count": 18,
   "metadata": {},
   "outputs": [
    {
     "name": "stderr",
     "output_type": "stream",
     "text": [
      "/anaconda3/envs/metis/lib/python3.6/site-packages/sklearn/ensemble/forest.py:245: FutureWarning: The default value of n_estimators will change from 10 in version 0.20 to 100 in 0.22.\n",
      "  \"10 in version 0.20 to 100 in 0.22.\", FutureWarning)\n"
     ]
    },
    {
     "name": "stdout",
     "output_type": "stream",
     "text": [
      "0.9181818181818182\n",
      "0.8015873015873016\n"
     ]
    }
   ],
   "source": [
    "#Let's try Random Forest again to see if time will be a major factor.\n",
    "X = cc.drop(columns=['Class', 'Time'])\n",
    "y = cc['Class']\n",
    "X_train, X_test, y_train, y_test = train_test_split(X, y, test_size=0.25, random_state=7)\n",
    "\n",
    "RFC2 = RandomForestClassifier(random_state=7)\n",
    "RFC2.fit(X_train, y_train)\n",
    "y_rfc2pred = RFC2.predict(X_test)\n",
    "\n",
    "print(precision_score(y_test, y_rfc2pred))\n",
    "print(recall_score(y_test, y_rfc2pred))"
   ]
  },
  {
   "cell_type": "code",
   "execution_count": 37,
   "metadata": {},
   "outputs": [
    {
     "data": {
      "text/html": [
       "<div>\n",
       "<style scoped>\n",
       "    .dataframe tbody tr th:only-of-type {\n",
       "        vertical-align: middle;\n",
       "    }\n",
       "\n",
       "    .dataframe tbody tr th {\n",
       "        vertical-align: top;\n",
       "    }\n",
       "\n",
       "    .dataframe thead th {\n",
       "        text-align: right;\n",
       "    }\n",
       "</style>\n",
       "<table border=\"1\" class=\"dataframe\">\n",
       "  <thead>\n",
       "    <tr style=\"text-align: right;\">\n",
       "      <th></th>\n",
       "      <th>importance</th>\n",
       "    </tr>\n",
       "  </thead>\n",
       "  <tbody>\n",
       "    <tr>\n",
       "      <th>V12</th>\n",
       "      <td>0.234828</td>\n",
       "    </tr>\n",
       "    <tr>\n",
       "      <th>V17</th>\n",
       "      <td>0.152739</td>\n",
       "    </tr>\n",
       "    <tr>\n",
       "      <th>V14</th>\n",
       "      <td>0.109930</td>\n",
       "    </tr>\n",
       "    <tr>\n",
       "      <th>V10</th>\n",
       "      <td>0.108138</td>\n",
       "    </tr>\n",
       "    <tr>\n",
       "      <th>V11</th>\n",
       "      <td>0.030998</td>\n",
       "    </tr>\n",
       "  </tbody>\n",
       "</table>\n",
       "</div>"
      ],
      "text/plain": [
       "     importance\n",
       "V12    0.234828\n",
       "V17    0.152739\n",
       "V14    0.109930\n",
       "V10    0.108138\n",
       "V11    0.030998"
      ]
     },
     "execution_count": 37,
     "metadata": {},
     "output_type": "execute_result"
    },
    {
     "data": {
      "image/png": "[encoded data removed]",
      "text/plain": [
       "<Figure size 432x288 with 2 Axes>"
      ]
     },
     "metadata": {
      "needs_background": "light"
     },
     "output_type": "display_data"
    }
   ],
   "source": [
    "#Looks like I'm wrong.\n",
    "RFC2_confusion = confusion_matrix(y_test,y_rfc2pred)\n",
    "sns.heatmap(RFC2_confusion, cmap=plt.cm.Reds, annot=True, square=True)\n",
    "\n",
    "feature_importances = pd.DataFrame(RFC2.feature_importances_, index = X_train.columns, columns=['importance']).sort_values('importance',  ascending=False)\n",
    "feature_importances.head()"
   ]
  },
  {
   "cell_type": "code",
   "execution_count": 20,
   "metadata": {},
   "outputs": [
    {
     "name": "stdout",
     "output_type": "stream",
     "text": [
      "0.9995084407741356\n",
      "0.9252336448598131\n",
      "0.7857142857142857\n"
     ]
    }
   ],
   "source": [
    "#Let's oversample using Random Over Sample and Undersample using Random Under Sample\n",
    "ROS_pipeline = make_pipeline_imb(RandomOverSampler(random_state=7), RFC)\n",
    "ROS_model = ROS_pipeline.fit(X_train, y_train)\n",
    "ROS_pred = ROS_model.predict(X_test)\n",
    "\n",
    "print(accuracy_score(y_test, ROS_pred))\n",
    "print(precision_score(y_test, ROS_pred))\n",
    "print(recall_score(y_test, ROS_pred))"
   ]
  },
  {
   "cell_type": "code",
   "execution_count": 21,
   "metadata": {},
   "outputs": [
    {
     "data": {
      "text/plain": [
       "<matplotlib.axes._subplots.AxesSubplot at 0x1a24203d30>"
      ]
     },
     "execution_count": 21,
     "metadata": {},
     "output_type": "execute_result"
    },
    {
     "data": {
      "image/png": "[encoded data removed]",
      "text/plain": [
       "<Figure size 432x288 with 2 Axes>"
      ]
     },
     "metadata": {
      "needs_background": "light"
     },
     "output_type": "display_data"
    }
   ],
   "source": [
    "ROS_confusion = confusion_matrix(y_test,ROS_pred)\n",
    "sns.heatmap(ROS_confusion, cmap=plt.cm.Reds, annot=True, square=True)"
   ]
  },
  {
   "cell_type": "code",
   "execution_count": 43,
   "metadata": {},
   "outputs": [
    {
     "data": {
      "text/html": [
       "<div>\n",
       "<style scoped>\n",
       "    .dataframe tbody tr th:only-of-type {\n",
       "        vertical-align: middle;\n",
       "    }\n",
       "\n",
       "    .dataframe tbody tr th {\n",
       "        vertical-align: top;\n",
       "    }\n",
       "\n",
       "    .dataframe thead th {\n",
       "        text-align: right;\n",
       "    }\n",
       "</style>\n",
       "<table border=\"1\" class=\"dataframe\">\n",
       "  <thead>\n",
       "    <tr style=\"text-align: right;\">\n",
       "      <th></th>\n",
       "      <th>importance</th>\n",
       "    </tr>\n",
       "  </thead>\n",
       "  <tbody>\n",
       "    <tr>\n",
       "      <th>V4</th>\n",
       "      <td>0.188369</td>\n",
       "    </tr>\n",
       "    <tr>\n",
       "      <th>V10</th>\n",
       "      <td>0.173236</td>\n",
       "    </tr>\n",
       "    <tr>\n",
       "      <th>V14</th>\n",
       "      <td>0.170248</td>\n",
       "    </tr>\n",
       "    <tr>\n",
       "      <th>V12</th>\n",
       "      <td>0.138004</td>\n",
       "    </tr>\n",
       "    <tr>\n",
       "      <th>V17</th>\n",
       "      <td>0.069142</td>\n",
       "    </tr>\n",
       "  </tbody>\n",
       "</table>\n",
       "</div>"
      ],
      "text/plain": [
       "     importance\n",
       "V4     0.188369\n",
       "V10    0.173236\n",
       "V14    0.170248\n",
       "V12    0.138004\n",
       "V17    0.069142"
      ]
     },
     "execution_count": 43,
     "metadata": {},
     "output_type": "execute_result"
    }
   ],
   "source": [
    "feature_importances = pd.DataFrame(RFC.feature_importances_, index = X_train.columns, columns=['importance']).sort_values('importance',  ascending=False)\n",
    "feature_importances.head()"
   ]
  },
  {
   "cell_type": "code",
   "execution_count": 23,
   "metadata": {},
   "outputs": [
    {
     "name": "stdout",
     "output_type": "stream",
     "text": [
      "0.9662509480070784\n",
      "0.045871559633027525\n",
      "0.9126984126984127\n"
     ]
    }
   ],
   "source": [
    "#Undersampling kills the precision of the model.\n",
    "RUS_pipeline = make_pipeline_imb(RandomUnderSampler(random_state=7), RFC)\n",
    "RUS_model = RUS_pipeline.fit(X_train, y_train)\n",
    "RUS_pred = RUS_model.predict(X_test)\n",
    "\n",
    "print(accuracy_score(y_test, RUS_pred))\n",
    "print(precision_score(y_test, RUS_pred))\n",
    "print(recall_score(y_test, RUS_pred))"
   ]
  },
  {
   "cell_type": "code",
   "execution_count": 24,
   "metadata": {},
   "outputs": [
    {
     "data": {
      "text/plain": [
       "<matplotlib.axes._subplots.AxesSubplot at 0x1a22f71f60>"
      ]
     },
     "execution_count": 24,
     "metadata": {},
     "output_type": "execute_result"
    },
    {
     "data": {
      "image/png": "[encoded data removed]",
      "text/plain": [
       "<Figure size 432x288 with 2 Axes>"
      ]
     },
     "metadata": {
      "needs_background": "light"
     },
     "output_type": "display_data"
    }
   ],
   "source": [
    "RUS_confusion = confusion_matrix(y_test,RUS_pred)\n",
    "sns.heatmap(RUS_confusion, cmap=plt.cm.Reds, annot=True, square=True)"
   ]
  },
  {
   "cell_type": "code",
   "execution_count": 25,
   "metadata": {},
   "outputs": [
    {
     "name": "stdout",
     "output_type": "stream",
     "text": [
      "0.8928008650699853\n",
      "0.939522147989141\n"
     ]
    }
   ],
   "source": [
    "print(roc_auc_score(y_test, ROS_pred))\n",
    "print(roc_auc_score(y_test, RUS_pred))"
   ]
  },
  {
   "cell_type": "code",
   "execution_count": 26,
   "metadata": {},
   "outputs": [
    {
     "name": "stdout",
     "output_type": "stream",
     "text": [
      "\n"
     ]
    }
   ],
   "source": [
    "# Label Binarizer instead of OneHotIncoding\n",
    "lb = preprocessing.LabelBinarizer()\n",
    "lb.fit(y_train)\n",
    "cross_paccuracy = cross_val_predict(ROS_model, X_train, y_train, cv=4)\n",
    "print('')\n",
    "cross_accuracy = cross_val_score(ROS_model, X_train, y_train, cv=4)\n",
    "cross_precision = cross_val_score(ROS_model, X_train, y_train, cv=4, scoring='precision')\n",
    "cross_recall = cross_val_score(ROS_model, X_train, y_train, cv=4, scoring='recall')"
   ]
  },
  {
   "cell_type": "markdown",
   "metadata": {},
   "source": []
  },
  {
   "cell_type": "code",
   "execution_count": 27,
   "metadata": {},
   "outputs": [
    {
     "name": "stdout",
     "output_type": "stream",
     "text": [
      "0.0013716907375763677\n",
      "\n",
      "0.9995458912836931\n",
      "0.9589917434597068\n",
      "0.7678272814142378\n"
     ]
    }
   ],
   "source": [
    "print(np.mean(cross_paccuracy))\n",
    "print('')\n",
    "print(np.mean(cross_accuracy))\n",
    "print(np.mean(cross_precision))\n",
    "print(np.mean(cross_recall))"
   ]
  },
  {
   "cell_type": "code",
   "execution_count": 28,
   "metadata": {
    "scrolled": true
   },
   "outputs": [
    {
     "data": {
      "text/html": [
       "<div>\n",
       "<style scoped>\n",
       "    .dataframe tbody tr th:only-of-type {\n",
       "        vertical-align: middle;\n",
       "    }\n",
       "\n",
       "    .dataframe tbody tr th {\n",
       "        vertical-align: top;\n",
       "    }\n",
       "\n",
       "    .dataframe thead th {\n",
       "        text-align: right;\n",
       "    }\n",
       "</style>\n",
       "<table border=\"1\" class=\"dataframe\">\n",
       "  <thead>\n",
       "    <tr style=\"text-align: right;\">\n",
       "      <th></th>\n",
       "      <th>V4</th>\n",
       "      <th>V11</th>\n",
       "      <th>V10</th>\n",
       "      <th>V12</th>\n",
       "      <th>V14</th>\n",
       "      <th>V17</th>\n",
       "      <th>Amount</th>\n",
       "      <th>Class</th>\n",
       "    </tr>\n",
       "  </thead>\n",
       "  <tbody>\n",
       "    <tr>\n",
       "      <th>0</th>\n",
       "      <td>1.378155</td>\n",
       "      <td>-0.551600</td>\n",
       "      <td>0.090794</td>\n",
       "      <td>-0.617801</td>\n",
       "      <td>-0.311169</td>\n",
       "      <td>0.207971</td>\n",
       "      <td>149.62</td>\n",
       "      <td>0</td>\n",
       "    </tr>\n",
       "    <tr>\n",
       "      <th>1</th>\n",
       "      <td>0.448154</td>\n",
       "      <td>1.612727</td>\n",
       "      <td>-0.166974</td>\n",
       "      <td>1.065235</td>\n",
       "      <td>-0.143772</td>\n",
       "      <td>-0.114805</td>\n",
       "      <td>2.69</td>\n",
       "      <td>0</td>\n",
       "    </tr>\n",
       "    <tr>\n",
       "      <th>2</th>\n",
       "      <td>0.379780</td>\n",
       "      <td>0.624501</td>\n",
       "      <td>0.207643</td>\n",
       "      <td>0.066084</td>\n",
       "      <td>-0.165946</td>\n",
       "      <td>1.109969</td>\n",
       "      <td>378.66</td>\n",
       "      <td>0</td>\n",
       "    </tr>\n",
       "    <tr>\n",
       "      <th>3</th>\n",
       "      <td>-0.863291</td>\n",
       "      <td>-0.226487</td>\n",
       "      <td>-0.054952</td>\n",
       "      <td>0.178228</td>\n",
       "      <td>-0.287924</td>\n",
       "      <td>-0.684093</td>\n",
       "      <td>123.50</td>\n",
       "      <td>0</td>\n",
       "    </tr>\n",
       "    <tr>\n",
       "      <th>4</th>\n",
       "      <td>0.403034</td>\n",
       "      <td>-0.822843</td>\n",
       "      <td>0.753074</td>\n",
       "      <td>0.538196</td>\n",
       "      <td>-1.119670</td>\n",
       "      <td>-0.237033</td>\n",
       "      <td>69.99</td>\n",
       "      <td>0</td>\n",
       "    </tr>\n",
       "    <tr>\n",
       "      <th>5</th>\n",
       "      <td>-0.168252</td>\n",
       "      <td>1.341262</td>\n",
       "      <td>-0.371407</td>\n",
       "      <td>0.359894</td>\n",
       "      <td>-0.137134</td>\n",
       "      <td>-0.058133</td>\n",
       "      <td>3.67</td>\n",
       "      <td>0</td>\n",
       "    </tr>\n",
       "    <tr>\n",
       "      <th>6</th>\n",
       "      <td>1.202613</td>\n",
       "      <td>-1.416907</td>\n",
       "      <td>-0.099254</td>\n",
       "      <td>-0.153826</td>\n",
       "      <td>0.167372</td>\n",
       "      <td>0.002821</td>\n",
       "      <td>4.99</td>\n",
       "      <td>0</td>\n",
       "    </tr>\n",
       "    <tr>\n",
       "      <th>7</th>\n",
       "      <td>-0.492199</td>\n",
       "      <td>-0.619468</td>\n",
       "      <td>1.249376</td>\n",
       "      <td>0.291474</td>\n",
       "      <td>-1.323865</td>\n",
       "      <td>-1.222127</td>\n",
       "      <td>40.80</td>\n",
       "      <td>0</td>\n",
       "    </tr>\n",
       "    <tr>\n",
       "      <th>8</th>\n",
       "      <td>-0.271526</td>\n",
       "      <td>-0.705117</td>\n",
       "      <td>-0.410430</td>\n",
       "      <td>-0.110452</td>\n",
       "      <td>0.074355</td>\n",
       "      <td>-0.499768</td>\n",
       "      <td>93.20</td>\n",
       "      <td>0</td>\n",
       "    </tr>\n",
       "    <tr>\n",
       "      <th>9</th>\n",
       "      <td>-0.222187</td>\n",
       "      <td>1.017614</td>\n",
       "      <td>-0.366846</td>\n",
       "      <td>0.836390</td>\n",
       "      <td>-0.443523</td>\n",
       "      <td>-0.540980</td>\n",
       "      <td>3.68</td>\n",
       "      <td>0</td>\n",
       "    </tr>\n",
       "    <tr>\n",
       "      <th>10</th>\n",
       "      <td>-1.375667</td>\n",
       "      <td>1.199644</td>\n",
       "      <td>1.626659</td>\n",
       "      <td>-0.671440</td>\n",
       "      <td>-0.095045</td>\n",
       "      <td>0.253415</td>\n",
       "      <td>7.80</td>\n",
       "      <td>0</td>\n",
       "    </tr>\n",
       "    <tr>\n",
       "      <th>11</th>\n",
       "      <td>-0.094019</td>\n",
       "      <td>-0.259116</td>\n",
       "      <td>0.309755</td>\n",
       "      <td>-0.326143</td>\n",
       "      <td>0.362832</td>\n",
       "      <td>-0.809979</td>\n",
       "      <td>9.99</td>\n",
       "      <td>0</td>\n",
       "    </tr>\n",
       "    <tr>\n",
       "      <th>12</th>\n",
       "      <td>-1.234899</td>\n",
       "      <td>0.227666</td>\n",
       "      <td>1.323729</td>\n",
       "      <td>-0.242682</td>\n",
       "      <td>-0.317631</td>\n",
       "      <td>0.873936</td>\n",
       "      <td>121.50</td>\n",
       "      <td>0</td>\n",
       "    </tr>\n",
       "    <tr>\n",
       "      <th>13</th>\n",
       "      <td>2.712520</td>\n",
       "      <td>-0.773657</td>\n",
       "      <td>0.460230</td>\n",
       "      <td>0.323387</td>\n",
       "      <td>-0.178485</td>\n",
       "      <td>0.124005</td>\n",
       "      <td>27.50</td>\n",
       "      <td>0</td>\n",
       "    </tr>\n",
       "    <tr>\n",
       "      <th>14</th>\n",
       "      <td>1.767473</td>\n",
       "      <td>0.844555</td>\n",
       "      <td>1.151087</td>\n",
       "      <td>0.792944</td>\n",
       "      <td>-0.734975</td>\n",
       "      <td>-0.155869</td>\n",
       "      <td>58.80</td>\n",
       "      <td>0</td>\n",
       "    </tr>\n",
       "    <tr>\n",
       "      <th>15</th>\n",
       "      <td>-1.468643</td>\n",
       "      <td>-0.793981</td>\n",
       "      <td>0.747731</td>\n",
       "      <td>-0.770407</td>\n",
       "      <td>-1.066604</td>\n",
       "      <td>-0.279265</td>\n",
       "      <td>15.99</td>\n",
       "      <td>0</td>\n",
       "    </tr>\n",
       "    <tr>\n",
       "      <th>16</th>\n",
       "      <td>1.289091</td>\n",
       "      <td>-0.450311</td>\n",
       "      <td>-0.267975</td>\n",
       "      <td>0.936708</td>\n",
       "      <td>-0.468647</td>\n",
       "      <td>-0.009212</td>\n",
       "      <td>12.99</td>\n",
       "      <td>0</td>\n",
       "    </tr>\n",
       "    <tr>\n",
       "      <th>17</th>\n",
       "      <td>-0.727219</td>\n",
       "      <td>0.324098</td>\n",
       "      <td>-0.737980</td>\n",
       "      <td>0.277192</td>\n",
       "      <td>-0.291896</td>\n",
       "      <td>-0.928709</td>\n",
       "      <td>0.89</td>\n",
       "      <td>0</td>\n",
       "    </tr>\n",
       "    <tr>\n",
       "      <th>18</th>\n",
       "      <td>1.736239</td>\n",
       "      <td>0.917230</td>\n",
       "      <td>0.345173</td>\n",
       "      <td>0.970117</td>\n",
       "      <td>-0.479130</td>\n",
       "      <td>-0.725481</td>\n",
       "      <td>46.80</td>\n",
       "      <td>0</td>\n",
       "    </tr>\n",
       "    <tr>\n",
       "      <th>19</th>\n",
       "      <td>-1.438026</td>\n",
       "      <td>1.077542</td>\n",
       "      <td>1.638076</td>\n",
       "      <td>-0.632047</td>\n",
       "      <td>0.052011</td>\n",
       "      <td>0.304241</td>\n",
       "      <td>5.00</td>\n",
       "      <td>0</td>\n",
       "    </tr>\n",
       "    <tr>\n",
       "      <th>20</th>\n",
       "      <td>0.834159</td>\n",
       "      <td>1.019151</td>\n",
       "      <td>0.568521</td>\n",
       "      <td>1.298329</td>\n",
       "      <td>-0.372651</td>\n",
       "      <td>0.515663</td>\n",
       "      <td>231.71</td>\n",
       "      <td>0</td>\n",
       "    </tr>\n",
       "    <tr>\n",
       "      <th>21</th>\n",
       "      <td>2.109204</td>\n",
       "      <td>1.690330</td>\n",
       "      <td>0.724396</td>\n",
       "      <td>0.406774</td>\n",
       "      <td>0.983739</td>\n",
       "      <td>0.402484</td>\n",
       "      <td>34.09</td>\n",
       "      <td>0</td>\n",
       "    </tr>\n",
       "    <tr>\n",
       "      <th>22</th>\n",
       "      <td>2.261569</td>\n",
       "      <td>0.744786</td>\n",
       "      <td>0.922175</td>\n",
       "      <td>-0.531377</td>\n",
       "      <td>1.126870</td>\n",
       "      <td>-0.454475</td>\n",
       "      <td>2.28</td>\n",
       "      <td>0</td>\n",
       "    </tr>\n",
       "    <tr>\n",
       "      <th>23</th>\n",
       "      <td>-0.092603</td>\n",
       "      <td>-0.583200</td>\n",
       "      <td>-0.829881</td>\n",
       "      <td>0.524933</td>\n",
       "      <td>0.081393</td>\n",
       "      <td>0.783131</td>\n",
       "      <td>22.75</td>\n",
       "      <td>0</td>\n",
       "    </tr>\n",
       "    <tr>\n",
       "      <th>24</th>\n",
       "      <td>-1.013057</td>\n",
       "      <td>-0.081257</td>\n",
       "      <td>0.573743</td>\n",
       "      <td>-0.215745</td>\n",
       "      <td>0.033898</td>\n",
       "      <td>-0.975667</td>\n",
       "      <td>0.89</td>\n",
       "      <td>0</td>\n",
       "    </tr>\n",
       "    <tr>\n",
       "      <th>25</th>\n",
       "      <td>0.410008</td>\n",
       "      <td>-0.856566</td>\n",
       "      <td>0.149451</td>\n",
       "      <td>-0.180523</td>\n",
       "      <td>-0.279797</td>\n",
       "      <td>0.010751</td>\n",
       "      <td>26.43</td>\n",
       "      <td>0</td>\n",
       "    </tr>\n",
       "    <tr>\n",
       "      <th>26</th>\n",
       "      <td>1.133563</td>\n",
       "      <td>-0.143419</td>\n",
       "      <td>-0.046139</td>\n",
       "      <td>0.979350</td>\n",
       "      <td>0.101418</td>\n",
       "      <td>-0.511640</td>\n",
       "      <td>41.88</td>\n",
       "      <td>0</td>\n",
       "    </tr>\n",
       "    <tr>\n",
       "      <th>27</th>\n",
       "      <td>0.576038</td>\n",
       "      <td>-0.641506</td>\n",
       "      <td>0.868559</td>\n",
       "      <td>-0.111316</td>\n",
       "      <td>0.171945</td>\n",
       "      <td>-0.216935</td>\n",
       "      <td>16.00</td>\n",
       "      <td>0</td>\n",
       "    </tr>\n",
       "    <tr>\n",
       "      <th>28</th>\n",
       "      <td>1.473471</td>\n",
       "      <td>-0.012142</td>\n",
       "      <td>-0.346188</td>\n",
       "      <td>0.786796</td>\n",
       "      <td>-0.086324</td>\n",
       "      <td>0.775592</td>\n",
       "      <td>33.00</td>\n",
       "      <td>0</td>\n",
       "    </tr>\n",
       "    <tr>\n",
       "      <th>29</th>\n",
       "      <td>1.186110</td>\n",
       "      <td>1.048292</td>\n",
       "      <td>-0.064738</td>\n",
       "      <td>1.005618</td>\n",
       "      <td>-0.039915</td>\n",
       "      <td>-0.193554</td>\n",
       "      <td>12.99</td>\n",
       "      <td>0</td>\n",
       "    </tr>\n",
       "    <tr>\n",
       "      <th>...</th>\n",
       "      <td>...</td>\n",
       "      <td>...</td>\n",
       "      <td>...</td>\n",
       "      <td>...</td>\n",
       "      <td>...</td>\n",
       "      <td>...</td>\n",
       "      <td>...</td>\n",
       "      <td>...</td>\n",
       "    </tr>\n",
       "    <tr>\n",
       "      <th>284777</th>\n",
       "      <td>0.358000</td>\n",
       "      <td>-0.822911</td>\n",
       "      <td>0.028351</td>\n",
       "      <td>0.049716</td>\n",
       "      <td>0.569087</td>\n",
       "      <td>-0.500821</td>\n",
       "      <td>1.00</td>\n",
       "      <td>0</td>\n",
       "    </tr>\n",
       "    <tr>\n",
       "      <th>284778</th>\n",
       "      <td>-0.418847</td>\n",
       "      <td>0.874312</td>\n",
       "      <td>-1.245088</td>\n",
       "      <td>0.162691</td>\n",
       "      <td>-0.317789</td>\n",
       "      <td>0.681412</td>\n",
       "      <td>80.00</td>\n",
       "      <td>0</td>\n",
       "    </tr>\n",
       "    <tr>\n",
       "      <th>284779</th>\n",
       "      <td>-0.406246</td>\n",
       "      <td>-0.590756</td>\n",
       "      <td>-0.220744</td>\n",
       "      <td>0.654596</td>\n",
       "      <td>0.120626</td>\n",
       "      <td>0.146953</td>\n",
       "      <td>25.00</td>\n",
       "      <td>0</td>\n",
       "    </tr>\n",
       "    <tr>\n",
       "      <th>284780</th>\n",
       "      <td>1.148583</td>\n",
       "      <td>-1.296770</td>\n",
       "      <td>-0.195152</td>\n",
       "      <td>0.725295</td>\n",
       "      <td>-0.821823</td>\n",
       "      <td>0.457890</td>\n",
       "      <td>30.00</td>\n",
       "      <td>0</td>\n",
       "    </tr>\n",
       "    <tr>\n",
       "      <th>284781</th>\n",
       "      <td>-1.138957</td>\n",
       "      <td>0.659941</td>\n",
       "      <td>-0.792066</td>\n",
       "      <td>0.995402</td>\n",
       "      <td>-0.300746</td>\n",
       "      <td>-0.991270</td>\n",
       "      <td>13.00</td>\n",
       "      <td>0</td>\n",
       "    </tr>\n",
       "    <tr>\n",
       "      <th>284782</th>\n",
       "      <td>4.846661</td>\n",
       "      <td>1.045386</td>\n",
       "      <td>0.525012</td>\n",
       "      <td>0.124585</td>\n",
       "      <td>-1.820716</td>\n",
       "      <td>2.322135</td>\n",
       "      <td>12.82</td>\n",
       "      <td>0</td>\n",
       "    </tr>\n",
       "    <tr>\n",
       "      <th>284783</th>\n",
       "      <td>-1.689844</td>\n",
       "      <td>-0.344690</td>\n",
       "      <td>0.832931</td>\n",
       "      <td>0.247153</td>\n",
       "      <td>0.849765</td>\n",
       "      <td>-0.302906</td>\n",
       "      <td>11.46</td>\n",
       "      <td>0</td>\n",
       "    </tr>\n",
       "    <tr>\n",
       "      <th>284784</th>\n",
       "      <td>-1.560729</td>\n",
       "      <td>0.187488</td>\n",
       "      <td>-1.453432</td>\n",
       "      <td>-0.390794</td>\n",
       "      <td>-0.510320</td>\n",
       "      <td>0.567862</td>\n",
       "      <td>40.00</td>\n",
       "      <td>0</td>\n",
       "    </tr>\n",
       "    <tr>\n",
       "      <th>284785</th>\n",
       "      <td>-1.729828</td>\n",
       "      <td>-0.199626</td>\n",
       "      <td>-0.386953</td>\n",
       "      <td>0.032017</td>\n",
       "      <td>0.354051</td>\n",
       "      <td>-0.482455</td>\n",
       "      <td>1.79</td>\n",
       "      <td>0</td>\n",
       "    </tr>\n",
       "    <tr>\n",
       "      <th>284786</th>\n",
       "      <td>-1.888063</td>\n",
       "      <td>-0.451656</td>\n",
       "      <td>0.300342</td>\n",
       "      <td>0.566368</td>\n",
       "      <td>0.855742</td>\n",
       "      <td>0.017822</td>\n",
       "      <td>8.95</td>\n",
       "      <td>0</td>\n",
       "    </tr>\n",
       "    <tr>\n",
       "      <th>284787</th>\n",
       "      <td>-0.840816</td>\n",
       "      <td>-1.089397</td>\n",
       "      <td>-0.328271</td>\n",
       "      <td>-0.694904</td>\n",
       "      <td>0.946281</td>\n",
       "      <td>-0.274712</td>\n",
       "      <td>9.99</td>\n",
       "      <td>0</td>\n",
       "    </tr>\n",
       "    <tr>\n",
       "      <th>284788</th>\n",
       "      <td>0.335261</td>\n",
       "      <td>-0.635200</td>\n",
       "      <td>-0.028284</td>\n",
       "      <td>0.869261</td>\n",
       "      <td>-0.280317</td>\n",
       "      <td>-0.557940</td>\n",
       "      <td>3.99</td>\n",
       "      <td>0</td>\n",
       "    </tr>\n",
       "    <tr>\n",
       "      <th>284789</th>\n",
       "      <td>0.981577</td>\n",
       "      <td>-1.291228</td>\n",
       "      <td>0.076605</td>\n",
       "      <td>-0.690868</td>\n",
       "      <td>0.753473</td>\n",
       "      <td>0.319074</td>\n",
       "      <td>60.50</td>\n",
       "      <td>0</td>\n",
       "    </tr>\n",
       "    <tr>\n",
       "      <th>284790</th>\n",
       "      <td>-0.677037</td>\n",
       "      <td>0.362990</td>\n",
       "      <td>-0.753365</td>\n",
       "      <td>0.110499</td>\n",
       "      <td>-0.383112</td>\n",
       "      <td>0.216671</td>\n",
       "      <td>9.81</td>\n",
       "      <td>0</td>\n",
       "    </tr>\n",
       "    <tr>\n",
       "      <th>284791</th>\n",
       "      <td>-0.530365</td>\n",
       "      <td>-1.187546</td>\n",
       "      <td>-1.032990</td>\n",
       "      <td>0.055871</td>\n",
       "      <td>0.550972</td>\n",
       "      <td>0.004179</td>\n",
       "      <td>20.32</td>\n",
       "      <td>0</td>\n",
       "    </tr>\n",
       "    <tr>\n",
       "      <th>284792</th>\n",
       "      <td>-0.607190</td>\n",
       "      <td>-1.381624</td>\n",
       "      <td>-0.348134</td>\n",
       "      <td>0.617933</td>\n",
       "      <td>0.494490</td>\n",
       "      <td>-0.494065</td>\n",
       "      <td>3.99</td>\n",
       "      <td>0</td>\n",
       "    </tr>\n",
       "    <tr>\n",
       "      <th>284793</th>\n",
       "      <td>-0.617643</td>\n",
       "      <td>-0.222959</td>\n",
       "      <td>-0.146827</td>\n",
       "      <td>0.496509</td>\n",
       "      <td>-0.000744</td>\n",
       "      <td>-0.583710</td>\n",
       "      <td>4.99</td>\n",
       "      <td>0</td>\n",
       "    </tr>\n",
       "    <tr>\n",
       "      <th>284794</th>\n",
       "      <td>-0.723919</td>\n",
       "      <td>-1.311976</td>\n",
       "      <td>-0.815911</td>\n",
       "      <td>-0.946753</td>\n",
       "      <td>0.609469</td>\n",
       "      <td>-0.357628</td>\n",
       "      <td>0.89</td>\n",
       "      <td>0</td>\n",
       "    </tr>\n",
       "    <tr>\n",
       "      <th>284795</th>\n",
       "      <td>-2.510473</td>\n",
       "      <td>-1.052365</td>\n",
       "      <td>8.655320</td>\n",
       "      <td>2.834865</td>\n",
       "      <td>1.288401</td>\n",
       "      <td>0.586179</td>\n",
       "      <td>9.87</td>\n",
       "      <td>0</td>\n",
       "    </tr>\n",
       "    <tr>\n",
       "      <th>284796</th>\n",
       "      <td>1.506772</td>\n",
       "      <td>-1.134176</td>\n",
       "      <td>0.120908</td>\n",
       "      <td>0.677729</td>\n",
       "      <td>0.002019</td>\n",
       "      <td>-0.199950</td>\n",
       "      <td>60.00</td>\n",
       "      <td>0</td>\n",
       "    </tr>\n",
       "    <tr>\n",
       "      <th>284797</th>\n",
       "      <td>-0.463406</td>\n",
       "      <td>-0.612982</td>\n",
       "      <td>-0.284708</td>\n",
       "      <td>-0.066655</td>\n",
       "      <td>0.237948</td>\n",
       "      <td>-0.174846</td>\n",
       "      <td>5.49</td>\n",
       "      <td>0</td>\n",
       "    </tr>\n",
       "    <tr>\n",
       "      <th>284798</th>\n",
       "      <td>0.960928</td>\n",
       "      <td>-1.109232</td>\n",
       "      <td>-0.111640</td>\n",
       "      <td>-0.453235</td>\n",
       "      <td>1.122674</td>\n",
       "      <td>0.939328</td>\n",
       "      <td>24.05</td>\n",
       "      <td>0</td>\n",
       "    </tr>\n",
       "    <tr>\n",
       "      <th>284799</th>\n",
       "      <td>0.331096</td>\n",
       "      <td>-1.264072</td>\n",
       "      <td>-0.594242</td>\n",
       "      <td>0.453596</td>\n",
       "      <td>-0.858719</td>\n",
       "      <td>0.447184</td>\n",
       "      <td>79.99</td>\n",
       "      <td>0</td>\n",
       "    </tr>\n",
       "    <tr>\n",
       "      <th>284800</th>\n",
       "      <td>0.234580</td>\n",
       "      <td>0.523316</td>\n",
       "      <td>0.267772</td>\n",
       "      <td>0.559047</td>\n",
       "      <td>0.626211</td>\n",
       "      <td>-0.605252</td>\n",
       "      <td>2.68</td>\n",
       "      <td>0</td>\n",
       "    </tr>\n",
       "    <tr>\n",
       "      <th>284801</th>\n",
       "      <td>-0.745097</td>\n",
       "      <td>0.644837</td>\n",
       "      <td>-0.657422</td>\n",
       "      <td>0.190916</td>\n",
       "      <td>-0.731707</td>\n",
       "      <td>0.070441</td>\n",
       "      <td>2.69</td>\n",
       "      <td>0</td>\n",
       "    </tr>\n",
       "    <tr>\n",
       "      <th>284802</th>\n",
       "      <td>-2.066656</td>\n",
       "      <td>-1.593105</td>\n",
       "      <td>4.356170</td>\n",
       "      <td>2.711941</td>\n",
       "      <td>4.626942</td>\n",
       "      <td>1.991691</td>\n",
       "      <td>0.77</td>\n",
       "      <td>0</td>\n",
       "    </tr>\n",
       "    <tr>\n",
       "      <th>284803</th>\n",
       "      <td>-0.738589</td>\n",
       "      <td>-0.150189</td>\n",
       "      <td>-0.975926</td>\n",
       "      <td>0.915802</td>\n",
       "      <td>-0.675143</td>\n",
       "      <td>-0.025693</td>\n",
       "      <td>24.79</td>\n",
       "      <td>0</td>\n",
       "    </tr>\n",
       "    <tr>\n",
       "      <th>284804</th>\n",
       "      <td>-0.557828</td>\n",
       "      <td>0.411614</td>\n",
       "      <td>-0.484782</td>\n",
       "      <td>0.063119</td>\n",
       "      <td>-0.510602</td>\n",
       "      <td>0.313502</td>\n",
       "      <td>67.88</td>\n",
       "      <td>0</td>\n",
       "    </tr>\n",
       "    <tr>\n",
       "      <th>284805</th>\n",
       "      <td>0.689799</td>\n",
       "      <td>-1.933849</td>\n",
       "      <td>-0.399126</td>\n",
       "      <td>-0.962886</td>\n",
       "      <td>0.449624</td>\n",
       "      <td>0.509928</td>\n",
       "      <td>10.00</td>\n",
       "      <td>0</td>\n",
       "    </tr>\n",
       "    <tr>\n",
       "      <th>284806</th>\n",
       "      <td>-0.506271</td>\n",
       "      <td>-1.040458</td>\n",
       "      <td>-0.915427</td>\n",
       "      <td>-0.031513</td>\n",
       "      <td>-0.084316</td>\n",
       "      <td>-0.660377</td>\n",
       "      <td>217.00</td>\n",
       "      <td>0</td>\n",
       "    </tr>\n",
       "  </tbody>\n",
       "</table>\n",
       "<p>284807 rows × 8 columns</p>\n",
       "</div>"
      ],
      "text/plain": [
       "              V4       V11       V10       V12       V14       V17  Amount  \\\n",
       "0       1.378155 -0.551600  0.090794 -0.617801 -0.311169  0.207971  149.62   \n",
       "1       0.448154  1.612727 -0.166974  1.065235 -0.143772 -0.114805    2.69   \n",
       "2       0.379780  0.624501  0.207643  0.066084 -0.165946  1.109969  378.66   \n",
       "3      -0.863291 -0.226487 -0.054952  0.178228 -0.287924 -0.684093  123.50   \n",
       "4       0.403034 -0.822843  0.753074  0.538196 -1.119670 -0.237033   69.99   \n",
       "5      -0.168252  1.341262 -0.371407  0.359894 -0.137134 -0.058133    3.67   \n",
       "6       1.202613 -1.416907 -0.099254 -0.153826  0.167372  0.002821    4.99   \n",
       "7      -0.492199 -0.619468  1.249376  0.291474 -1.323865 -1.222127   40.80   \n",
       "8      -0.271526 -0.705117 -0.410430 -0.110452  0.074355 -0.499768   93.20   \n",
       "9      -0.222187  1.017614 -0.366846  0.836390 -0.443523 -0.540980    3.68   \n",
       "10     -1.375667  1.199644  1.626659 -0.671440 -0.095045  0.253415    7.80   \n",
       "11     -0.094019 -0.259116  0.309755 -0.326143  0.362832 -0.809979    9.99   \n",
       "12     -1.234899  0.227666  1.323729 -0.242682 -0.317631  0.873936  121.50   \n",
       "13      2.712520 -0.773657  0.460230  0.323387 -0.178485  0.124005   27.50   \n",
       "14      1.767473  0.844555  1.151087  0.792944 -0.734975 -0.155869   58.80   \n",
       "15     -1.468643 -0.793981  0.747731 -0.770407 -1.066604 -0.279265   15.99   \n",
       "16      1.289091 -0.450311 -0.267975  0.936708 -0.468647 -0.009212   12.99   \n",
       "17     -0.727219  0.324098 -0.737980  0.277192 -0.291896 -0.928709    0.89   \n",
       "18      1.736239  0.917230  0.345173  0.970117 -0.479130 -0.725481   46.80   \n",
       "19     -1.438026  1.077542  1.638076 -0.632047  0.052011  0.304241    5.00   \n",
       "20      0.834159  1.019151  0.568521  1.298329 -0.372651  0.515663  231.71   \n",
       "21      2.109204  1.690330  0.724396  0.406774  0.983739  0.402484   34.09   \n",
       "22      2.261569  0.744786  0.922175 -0.531377  1.126870 -0.454475    2.28   \n",
       "23     -0.092603 -0.583200 -0.829881  0.524933  0.081393  0.783131   22.75   \n",
       "24     -1.013057 -0.081257  0.573743 -0.215745  0.033898 -0.975667    0.89   \n",
       "25      0.410008 -0.856566  0.149451 -0.180523 -0.279797  0.010751   26.43   \n",
       "26      1.133563 -0.143419 -0.046139  0.979350  0.101418 -0.511640   41.88   \n",
       "27      0.576038 -0.641506  0.868559 -0.111316  0.171945 -0.216935   16.00   \n",
       "28      1.473471 -0.012142 -0.346188  0.786796 -0.086324  0.775592   33.00   \n",
       "29      1.186110  1.048292 -0.064738  1.005618 -0.039915 -0.193554   12.99   \n",
       "...          ...       ...       ...       ...       ...       ...     ...   \n",
       "284777  0.358000 -0.822911  0.028351  0.049716  0.569087 -0.500821    1.00   \n",
       "284778 -0.418847  0.874312 -1.245088  0.162691 -0.317789  0.681412   80.00   \n",
       "284779 -0.406246 -0.590756 -0.220744  0.654596  0.120626  0.146953   25.00   \n",
       "284780  1.148583 -1.296770 -0.195152  0.725295 -0.821823  0.457890   30.00   \n",
       "284781 -1.138957  0.659941 -0.792066  0.995402 -0.300746 -0.991270   13.00   \n",
       "284782  4.846661  1.045386  0.525012  0.124585 -1.820716  2.322135   12.82   \n",
       "284783 -1.689844 -0.344690  0.832931  0.247153  0.849765 -0.302906   11.46   \n",
       "284784 -1.560729  0.187488 -1.453432 -0.390794 -0.510320  0.567862   40.00   \n",
       "284785 -1.729828 -0.199626 -0.386953  0.032017  0.354051 -0.482455    1.79   \n",
       "284786 -1.888063 -0.451656  0.300342  0.566368  0.855742  0.017822    8.95   \n",
       "284787 -0.840816 -1.089397 -0.328271 -0.694904  0.946281 -0.274712    9.99   \n",
       "284788  0.335261 -0.635200 -0.028284  0.869261 -0.280317 -0.557940    3.99   \n",
       "284789  0.981577 -1.291228  0.076605 -0.690868  0.753473  0.319074   60.50   \n",
       "284790 -0.677037  0.362990 -0.753365  0.110499 -0.383112  0.216671    9.81   \n",
       "284791 -0.530365 -1.187546 -1.032990  0.055871  0.550972  0.004179   20.32   \n",
       "284792 -0.607190 -1.381624 -0.348134  0.617933  0.494490 -0.494065    3.99   \n",
       "284793 -0.617643 -0.222959 -0.146827  0.496509 -0.000744 -0.583710    4.99   \n",
       "284794 -0.723919 -1.311976 -0.815911 -0.946753  0.609469 -0.357628    0.89   \n",
       "284795 -2.510473 -1.052365  8.655320  2.834865  1.288401  0.586179    9.87   \n",
       "284796  1.506772 -1.134176  0.120908  0.677729  0.002019 -0.199950   60.00   \n",
       "284797 -0.463406 -0.612982 -0.284708 -0.066655  0.237948 -0.174846    5.49   \n",
       "284798  0.960928 -1.109232 -0.111640 -0.453235  1.122674  0.939328   24.05   \n",
       "284799  0.331096 -1.264072 -0.594242  0.453596 -0.858719  0.447184   79.99   \n",
       "284800  0.234580  0.523316  0.267772  0.559047  0.626211 -0.605252    2.68   \n",
       "284801 -0.745097  0.644837 -0.657422  0.190916 -0.731707  0.070441    2.69   \n",
       "284802 -2.066656 -1.593105  4.356170  2.711941  4.626942  1.991691    0.77   \n",
       "284803 -0.738589 -0.150189 -0.975926  0.915802 -0.675143 -0.025693   24.79   \n",
       "284804 -0.557828  0.411614 -0.484782  0.063119 -0.510602  0.313502   67.88   \n",
       "284805  0.689799 -1.933849 -0.399126 -0.962886  0.449624  0.509928   10.00   \n",
       "284806 -0.506271 -1.040458 -0.915427 -0.031513 -0.084316 -0.660377  217.00   \n",
       "\n",
       "        Class  \n",
       "0           0  \n",
       "1           0  \n",
       "2           0  \n",
       "3           0  \n",
       "4           0  \n",
       "5           0  \n",
       "6           0  \n",
       "7           0  \n",
       "8           0  \n",
       "9           0  \n",
       "10          0  \n",
       "11          0  \n",
       "12          0  \n",
       "13          0  \n",
       "14          0  \n",
       "15          0  \n",
       "16          0  \n",
       "17          0  \n",
       "18          0  \n",
       "19          0  \n",
       "20          0  \n",
       "21          0  \n",
       "22          0  \n",
       "23          0  \n",
       "24          0  \n",
       "25          0  \n",
       "26          0  \n",
       "27          0  \n",
       "28          0  \n",
       "29          0  \n",
       "...       ...  \n",
       "284777      0  \n",
       "284778      0  \n",
       "284779      0  \n",
       "284780      0  \n",
       "284781      0  \n",
       "284782      0  \n",
       "284783      0  \n",
       "284784      0  \n",
       "284785      0  \n",
       "284786      0  \n",
       "284787      0  \n",
       "284788      0  \n",
       "284789      0  \n",
       "284790      0  \n",
       "284791      0  \n",
       "284792      0  \n",
       "284793      0  \n",
       "284794      0  \n",
       "284795      0  \n",
       "284796      0  \n",
       "284797      0  \n",
       "284798      0  \n",
       "284799      0  \n",
       "284800      0  \n",
       "284801      0  \n",
       "284802      0  \n",
       "284803      0  \n",
       "284804      0  \n",
       "284805      0  \n",
       "284806      0  \n",
       "\n",
       "[284807 rows x 8 columns]"
      ]
     },
     "execution_count": 28,
     "metadata": {},
     "output_type": "execute_result"
    }
   ],
   "source": [
    "important_features = cc[['V4', 'V11', 'V10', 'V12', 'V14', 'V17', 'Amount', 'Class']].copy()\n",
    "important_features"
   ]
  },
  {
   "cell_type": "code",
   "execution_count": 29,
   "metadata": {},
   "outputs": [],
   "source": [
    "X_new = important_features.drop(columns='Class')\n",
    "y_new = important_features['Class']\n",
    "X_new_train, X_new_test, y_new_train, y_new_test = train_test_split(X_new, y_new, test_size=0.25, random_state=7)"
   ]
  },
  {
   "cell_type": "code",
   "execution_count": 30,
   "metadata": {},
   "outputs": [
    {
     "name": "stderr",
     "output_type": "stream",
     "text": [
      "/anaconda3/envs/metis/lib/python3.6/site-packages/sklearn/linear_model/logistic.py:432: FutureWarning: Default solver will be changed to 'lbfgs' in 0.22. Specify a solver to silence this warning.\n",
      "  FutureWarning)\n"
     ]
    },
    {
     "name": "stdout",
     "output_type": "stream",
     "text": [
      "0.8695652173913043\n",
      "0.47619047619047616\n",
      "0.7380319255846861\n"
     ]
    }
   ],
   "source": [
    "# Testing Logistical Regression one more time.\n",
    "logreg_new = LogisticRegression(random_state=7, class_weight={1:0.5})\n",
    "logreg_new.fit(X_new_train, y_new_train)\n",
    "y_new_lpred = logreg_new.predict(X_new_test)\n",
    "\n",
    "print(precision_score(y_new_test, y_new_lpred))\n",
    "print(recall_score(y_new_test, y_new_lpred))\n",
    "print(roc_auc_score(y_new_test, y_new_lpred))"
   ]
  },
  {
   "cell_type": "code",
   "execution_count": 31,
   "metadata": {},
   "outputs": [
    {
     "data": {
      "text/plain": [
       "<matplotlib.axes._subplots.AxesSubplot at 0x1a23d3ddd8>"
      ]
     },
     "execution_count": 31,
     "metadata": {},
     "output_type": "execute_result"
    },
    {
     "data": {
      "image/png": "[encoded data removed]",
      "text/plain": [
       "<Figure size 432x288 with 2 Axes>"
      ]
     },
     "metadata": {
      "needs_background": "light"
     },
     "output_type": "display_data"
    }
   ],
   "source": [
    "lf_confusion = confusion_matrix(y_test,y_new_lpred)\n",
    "sns.heatmap(lf_confusion, cmap=plt.cm.Reds, annot=True, square=True)"
   ]
  },
  {
   "cell_type": "code",
   "execution_count": 32,
   "metadata": {},
   "outputs": [
    {
     "name": "stderr",
     "output_type": "stream",
     "text": [
      "/anaconda3/envs/metis/lib/python3.6/site-packages/sklearn/ensemble/forest.py:245: FutureWarning: The default value of n_estimators will change from 10 in version 0.20 to 100 in 0.22.\n",
      "  \"10 in version 0.20 to 100 in 0.22.\", FutureWarning)\n"
     ]
    }
   ],
   "source": [
    "# Trying Random Forest again with \n",
    "RFC_new = RandomForestClassifier(random_state=7,class_weight={1:0.3})\n",
    "ROS_new_pipeline = make_pipeline_imb(RandomOverSampler(random_state=7), RFC_new)\n",
    "ROS_new_model = ROS_new_pipeline.fit(X_new_train, y_new_train)\n",
    "ROS_new_pred = ROS_new_model.predict(X_new_test)"
   ]
  },
  {
   "cell_type": "code",
   "execution_count": 33,
   "metadata": {},
   "outputs": [
    {
     "name": "stdout",
     "output_type": "stream",
     "text": [
      "0.9017857142857143\n",
      "0.8015873015873016\n",
      "0.9007162688363094\n"
     ]
    }
   ],
   "source": [
    "print(precision_score(y_new_test, ROS_new_pred))\n",
    "print(recall_score(y_new_test, ROS_new_pred))\n",
    "print(roc_auc_score(y_new_test, ROS_new_pred))"
   ]
  },
  {
   "cell_type": "code",
   "execution_count": 34,
   "metadata": {},
   "outputs": [
    {
     "data": {
      "text/plain": [
       "<matplotlib.axes._subplots.AxesSubplot at 0x1a248d9358>"
      ]
     },
     "execution_count": 34,
     "metadata": {},
     "output_type": "execute_result"
    },
    {
     "data": {
      "image/png": "[encoded data removed]",
      "text/plain": [
       "<Figure size 432x288 with 2 Axes>"
      ]
     },
     "metadata": {
      "needs_background": "light"
     },
     "output_type": "display_data"
    }
   ],
   "source": [
    "final_confusion = confusion_matrix(y_test,ROS_new_pred)\n",
    "sns.heatmap(final_confusion, cmap=plt.cm.Reds, annot=True, square=True)"
   ]
  },
  {
   "cell_type": "markdown",
   "metadata": {},
   "source": [
    "With oversampling, eliminating irrelavent features, and using a weight of 0.3 almost all False positives and false negatives have been eliminatied. this is significantly better than the bare bones approach of throwing the data into non-specific models."
   ]
  },
  {
   "cell_type": "code",
   "execution_count": 35,
   "metadata": {},
   "outputs": [
    {
     "data": {
      "image/png": "[encoded data removed]",
      "text/plain": [
       "<Figure size 480x320 with 1 Axes>"
      ]
     },
     "metadata": {
      "needs_background": "light"
     },
     "output_type": "display_data"
    }
   ],
   "source": [
    "precision_curve, recall_curve, threshold_curve = precision_recall_curve(y_new_test, ROS_new_model.predict_proba(X_new_test)[:,1] )\n",
    "\n",
    "plt.figure(dpi=80)\n",
    "plt.plot(threshold_curve, precision_curve[1:],label='precision')\n",
    "plt.plot(threshold_curve, recall_curve[1:], label='recall')\n",
    "plt.legend(loc='lower left')\n",
    "plt.xlabel('Threshold (above this probability, label as fraud)');\n",
    "plt.title('Precision and Recall Curves');"
   ]
  },
  {
   "cell_type": "code",
   "execution_count": 36,
   "metadata": {},
   "outputs": [
    {
     "name": "stdout",
     "output_type": "stream",
     "text": [
      "ROC AUC score =  0.9361696556424735\n"
     ]
    },
    {
     "data": {
      "image/png": "[encoded data removed]",
      "text/plain": [
       "<Figure size 432x288 with 1 Axes>"
      ]
     },
     "metadata": {
      "needs_background": "light"
     },
     "output_type": "display_data"
    }
   ],
   "source": [
    "fpr, tpr, thresholds = roc_curve(y_new_test, ROS_new_model.predict_proba(X_new_test)[:,1]);\n",
    "plt.plot(fpr, tpr,lw=2);\n",
    "plt.plot([0,1],[0,1],c='violet',ls='--');\n",
    "plt.xlim([-0.05,1.05]);\n",
    "plt.ylim([-0.05,1.05]);\n",
    "\n",
    "\n",
    "plt.xlabel('False positive rate');\n",
    "plt.ylabel('True positive rate');\n",
    "plt.title('ROC curve for credit card fraud');\n",
    "print(\"ROC AUC score = \", roc_auc_score(y_new_test, ROS_new_model.predict_proba(X_new_test)[:,1]));"
   ]
  }
 ],
 "metadata": {
  "kernelspec": {
   "display_name": "Python 3",
   "language": "python",
   "name": "python3"
  },
  "language_info": {
   "codemirror_mode": {
    "name": "ipython",
    "version": 3
   },
   "file_extension": ".py",
   "mimetype": "text/x-python",
   "name": "python",
   "nbconvert_exporter": "python",
   "pygments_lexer": "ipython3",
   "version": "3.6.8"
  }
 },
 "nbformat": 4,
 "nbformat_minor": 2
}
