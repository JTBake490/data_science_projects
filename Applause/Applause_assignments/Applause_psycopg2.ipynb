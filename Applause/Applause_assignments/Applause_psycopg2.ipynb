{
 "cells": [
  {
   "cell_type": "code",
   "execution_count": 1,
   "metadata": {},
   "outputs": [],
   "source": [
    "import psycopg2\n",
    "from pandas.io import sql as pd_sql"
   ]
  },
  {
   "cell_type": "code",
   "execution_count": 2,
   "metadata": {},
   "outputs": [],
   "source": [
    "con = psycopg2.connect(host = 'localhost',\n",
    "                      database = 'applause',\n",
    "                      user = 'JR',\n",
    "                       port = 5432)"
   ]
  },
  {
   "cell_type": "markdown",
   "metadata": {},
   "source": [
    "### Two Cursor Examples"
   ]
  },
  {
   "cell_type": "code",
   "execution_count": 3,
   "metadata": {},
   "outputs": [],
   "source": [
    "cur = con.cursor() # Create a cursor"
   ]
  },
  {
   "cell_type": "code",
   "execution_count": 4,
   "metadata": {},
   "outputs": [
    {
     "name": "stdout",
     "output_type": "stream",
     "text": [
      "('Taybin', 'Rutkin', 125)\n",
      "('Lucas', 'Lowry', 117)\n",
      "('Sean', 'Wellington', 116)\n",
      "('Miguel', 'Bautista', 114)\n",
      "('Stanley', 'Chen', 110)\n",
      "('Mingquan', 'Zheng', 109)\n",
      "('Leonard', 'Sutton', 106)\n",
      "('Darshini', 'Thiagarajan', 104)\n",
      "('Michael', 'Lubavin', 99)\n"
     ]
    }
   ],
   "source": [
    "# The total bugs found for every tester that has ever tested a device\n",
    "cur.execute(\"\"\"SELECT firstName, lastName, COUNT(bugId) AS bugs_found\n",
    "FROM testers \n",
    "INNER JOIN bugs\n",
    "ON testers.testerId = bugs.testerId\n",
    "GROUP BY  firstName, lastName\n",
    "ORDER BY COUNT(bugId) DESC;\"\"\")\n",
    "\n",
    "rows = cur.fetchall()\n",
    "\n",
    "for row in rows:\n",
    "    print(row)\n",
    "    \n",
    "cur.execute('rollback;') # reset the cursor for a future query"
   ]
  },
  {
   "cell_type": "code",
   "execution_count": 5,
   "metadata": {},
   "outputs": [
    {
     "name": "stdout",
     "output_type": "stream",
     "text": [
      "('Stanley', 'Chen', 110)\n",
      "('Taybin', 'Rutkin', 66)\n",
      "('Sean', 'Wellington', 58)\n",
      "('Miguel', 'Bautista', 53)\n",
      "('Leonard', 'Sutton', 32)\n",
      "('Mingquan', 'Zheng', 21)\n"
     ]
    }
   ],
   "source": [
    "# The total bugs found for each tester when given specific devices but withou specifing countries\n",
    "# This example specifies the devices: iPhone 4 and iPhone 5\n",
    "cur.execute(\"\"\"SELECT firstName, lastName, COUNT(bugId) AS bugs_found\n",
    "FROM bugs \n",
    "INNER JOIN testers\n",
    "ON bugs.testerid = testers.testerid\n",
    "INNER JOIN devices\n",
    "ON bugs.deviceId = devices.deviceId\n",
    "WHERE deviceName IN ('iPhone 4', 'iPhone 5')\n",
    "GROUP BY firstName, lastName\n",
    "ORDER BY COUNT(bugId) DESC;\"\"\")\n",
    "\n",
    "rows = cur.fetchall()\n",
    "for row in rows:\n",
    "    print(row)\n",
    "\n",
    "cur.execute('rollback;')"
   ]
  },
  {
   "cell_type": "code",
   "execution_count": 6,
   "metadata": {},
   "outputs": [],
   "source": [
    "cur.close() # Close the cursor"
   ]
  },
  {
   "cell_type": "markdown",
   "metadata": {},
   "source": [
    "### Two Pandas SQL Quieries"
   ]
  },
  {
   "cell_type": "code",
   "execution_count": 7,
   "metadata": {},
   "outputs": [
    {
     "data": {
      "text/html": [
       "<div>\n",
       "<style scoped>\n",
       "    .dataframe tbody tr th:only-of-type {\n",
       "        vertical-align: middle;\n",
       "    }\n",
       "\n",
       "    .dataframe tbody tr th {\n",
       "        vertical-align: top;\n",
       "    }\n",
       "\n",
       "    .dataframe thead th {\n",
       "        text-align: right;\n",
       "    }\n",
       "</style>\n",
       "<table border=\"1\" class=\"dataframe\">\n",
       "  <thead>\n",
       "    <tr style=\"text-align: right;\">\n",
       "      <th></th>\n",
       "      <th>firstname</th>\n",
       "      <th>lastname</th>\n",
       "      <th>bugs_found</th>\n",
       "    </tr>\n",
       "  </thead>\n",
       "  <tbody>\n",
       "    <tr>\n",
       "      <th>0</th>\n",
       "      <td>Taybin</td>\n",
       "      <td>Rutkin</td>\n",
       "      <td>125</td>\n",
       "    </tr>\n",
       "    <tr>\n",
       "      <th>1</th>\n",
       "      <td>Lucas</td>\n",
       "      <td>Lowry</td>\n",
       "      <td>117</td>\n",
       "    </tr>\n",
       "    <tr>\n",
       "      <th>2</th>\n",
       "      <td>Sean</td>\n",
       "      <td>Wellington</td>\n",
       "      <td>116</td>\n",
       "    </tr>\n",
       "    <tr>\n",
       "      <th>3</th>\n",
       "      <td>Miguel</td>\n",
       "      <td>Bautista</td>\n",
       "      <td>114</td>\n",
       "    </tr>\n",
       "    <tr>\n",
       "      <th>4</th>\n",
       "      <td>Mingquan</td>\n",
       "      <td>Zheng</td>\n",
       "      <td>109</td>\n",
       "    </tr>\n",
       "  </tbody>\n",
       "</table>\n",
       "</div>"
      ],
      "text/plain": [
       "  firstname    lastname  bugs_found\n",
       "0    Taybin      Rutkin         125\n",
       "1     Lucas       Lowry         117\n",
       "2      Sean  Wellington         116\n",
       "3    Miguel    Bautista         114\n",
       "4  Mingquan       Zheng         109"
      ]
     },
     "execution_count": 7,
     "metadata": {},
     "output_type": "execute_result"
    }
   ],
   "source": [
    "# The total bugs found for each person given specific countries but without specifing specific devices\n",
    "# This example specifies the countries: US and JP\n",
    "    \n",
    "query3 = \"\"\"SELECT firstName, lastName, COUNT(bugId) AS bugs_found\n",
    "FROM testers\n",
    "INNER JOIN bugs\n",
    "ON testers.testerId = bugs.testerId\n",
    "WHERE country IN ('US', 'JP')\n",
    "GROUP BY firstName, lastName\n",
    "ORDER BY COUNT(bugId) DESC;\"\"\"\n",
    "\n",
    "\n",
    "country_specified_query = pd_sql.read_sql(query3, con)\n",
    "\n",
    "country_specified_query.head()"
   ]
  },
  {
   "cell_type": "code",
   "execution_count": 8,
   "metadata": {},
   "outputs": [
    {
     "data": {
      "text/html": [
       "<div>\n",
       "<style scoped>\n",
       "    .dataframe tbody tr th:only-of-type {\n",
       "        vertical-align: middle;\n",
       "    }\n",
       "\n",
       "    .dataframe tbody tr th {\n",
       "        vertical-align: top;\n",
       "    }\n",
       "\n",
       "    .dataframe thead th {\n",
       "        text-align: right;\n",
       "    }\n",
       "</style>\n",
       "<table border=\"1\" class=\"dataframe\">\n",
       "  <thead>\n",
       "    <tr style=\"text-align: right;\">\n",
       "      <th></th>\n",
       "      <th>firstname</th>\n",
       "      <th>lastname</th>\n",
       "      <th>bugs_found</th>\n",
       "    </tr>\n",
       "  </thead>\n",
       "  <tbody>\n",
       "    <tr>\n",
       "      <th>0</th>\n",
       "      <td>Taybin</td>\n",
       "      <td>Rutkin</td>\n",
       "      <td>66</td>\n",
       "    </tr>\n",
       "    <tr>\n",
       "      <th>1</th>\n",
       "      <td>Sean</td>\n",
       "      <td>Wellington</td>\n",
       "      <td>58</td>\n",
       "    </tr>\n",
       "    <tr>\n",
       "      <th>2</th>\n",
       "      <td>Miguel</td>\n",
       "      <td>Bautista</td>\n",
       "      <td>53</td>\n",
       "    </tr>\n",
       "    <tr>\n",
       "      <th>3</th>\n",
       "      <td>Mingquan</td>\n",
       "      <td>Zheng</td>\n",
       "      <td>21</td>\n",
       "    </tr>\n",
       "  </tbody>\n",
       "</table>\n",
       "</div>"
      ],
      "text/plain": [
       "  firstname    lastname  bugs_found\n",
       "0    Taybin      Rutkin          66\n",
       "1      Sean  Wellington          58\n",
       "2    Miguel    Bautista          53\n",
       "3  Mingquan       Zheng          21"
      ]
     },
     "execution_count": 8,
     "metadata": {},
     "output_type": "execute_result"
    }
   ],
   "source": [
    "# The total bugs for each tester given specific countries and specific devices\n",
    "# This example specifices the countries: US and JP; The example specifices the devices: iPhone 4 and iPhone 5\n",
    "\n",
    "query4 = \"\"\"SELECT firstName, lastName, COUNT(bugId) AS bugs_found\n",
    "FROM bugs\n",
    "INNER JOIN testers\n",
    "ON bugs.testerId = testers.testerId\n",
    "INNER JOIN devices\n",
    "ON bugs.deviceId = devices.deviceId\n",
    "WHERE country IN ('US', 'JP')  AND devicename IN ('iPhone 4', 'iPhone 5')\n",
    "GROUP BY firstName, lastName\n",
    "ORDER BY COUNT(bugId) DESC;\"\"\"\n",
    "\n",
    "country_and_devices_specified_query = pd_sql.read_sql(query4, con)\n",
    "\n",
    "country_and_devices_specified_query.head()"
   ]
  },
  {
   "cell_type": "code",
   "execution_count": 9,
   "metadata": {},
   "outputs": [],
   "source": [
    "con.close() # Close the connection"
   ]
  }
 ],
 "metadata": {
  "kernelspec": {
   "display_name": "Applause",
   "language": "python",
   "name": "applause"
  },
  "language_info": {
   "codemirror_mode": {
    "name": "ipython",
    "version": 3
   },
   "file_extension": ".py",
   "mimetype": "text/x-python",
   "name": "python",
   "nbconvert_exporter": "python",
   "pygments_lexer": "ipython3",
   "version": "3.7.4"
  }
 },
 "nbformat": 4,
 "nbformat_minor": 2
}
