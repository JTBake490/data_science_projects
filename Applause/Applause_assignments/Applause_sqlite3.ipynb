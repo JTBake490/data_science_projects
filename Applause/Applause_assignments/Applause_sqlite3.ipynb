{
 "cells": [
  {
   "cell_type": "code",
   "execution_count": 1,
   "metadata": {},
   "outputs": [],
   "source": [
    "import sqlite3\n",
    "import csv\n",
    "import pandas as pd"
   ]
  },
  {
   "cell_type": "code",
   "execution_count": 2,
   "metadata": {},
   "outputs": [],
   "source": [
    "try:\n",
    "    with open('Applause_schema_lite.sql') as file:\n",
    "        create_db = file.read()\n",
    "except FileNotFoundError:\n",
    "    print('Did not find file.')"
   ]
  },
  {
   "cell_type": "code",
   "execution_count": 3,
   "metadata": {},
   "outputs": [],
   "source": [
    "con = sqlite3.connect(':memory:')\n",
    "cur = con.cursor()"
   ]
  },
  {
   "cell_type": "code",
   "execution_count": 4,
   "metadata": {},
   "outputs": [],
   "source": [
    "cur.executescript(create_db)\n",
    "con.commit()\n",
    "\n",
    "del create_db"
   ]
  },
  {
   "cell_type": "markdown",
   "metadata": {},
   "source": [
    "### Place data from CSV into Table\n",
    "Note: This can be a long and tendious process."
   ]
  },
  {
   "cell_type": "code",
   "execution_count": 5,
   "metadata": {},
   "outputs": [],
   "source": [
    "with open('../Applause_files/testers.csv') as csv_file:\n",
    "    csv_reader = list(csv.DictReader(csv_file))\n",
    "    to_db = [(i['testerId'], i['firstName'], i['lastName'], i['country'], i['lastLogin']) for i in csv_reader]\n",
    "        \n",
    "cur.executemany(\"INSERT INTO testers (testerId, firstName, lastName, country, lastLogin) VALUES (?, ?, ?, ?, ?);\", to_db)\n",
    "con.commit()\n",
    "\n",
    "with open('../Applause_files/devices_devicename.csv') as csv_file:\n",
    "    csv_reader = list(csv.DictReader(csv_file))\n",
    "    to_db = [(i['deviceId'], i['deviceName']) for i in csv_reader]\n",
    "        \n",
    "cur.executemany(\"INSERT INTO devices (deviceId, deviceName) VALUES (?, ?);\", to_db)\n",
    "con.commit()\n",
    "\n",
    "with open('../Applause_files/tester_device.csv') as csv_file:\n",
    "    csv_reader = list(csv.DictReader(csv_file))\n",
    "    to_db = [(i['testerId'], i['deviceId']) for i in csv_reader]\n",
    "        \n",
    "cur.executemany(\"INSERT INTO tester_device (testerId, deviceId) VALUES (?, ?);\", to_db)\n",
    "con.commit()\n",
    "\n",
    "with open('../Applause_files/bugs.csv') as csv_file:\n",
    "    csv_reader = list(csv.DictReader(csv_file))\n",
    "    to_db = [(i['bugId'], i['testerId'], i['deviceId']) for i in csv_reader]\n",
    "        \n",
    "cur.executemany(\"INSERT INTO bugs (bugId, testerId, deviceId) VALUES (?, ?, ?);\", to_db)\n",
    "con.commit()\n",
    "\n",
    "del csv_reader"
   ]
  },
  {
   "cell_type": "markdown",
   "metadata": {},
   "source": [
    "### The Pandas Method\n",
    "Note: Only works if the data can be fit into memory."
   ]
  },
  {
   "cell_type": "code",
   "execution_count": 6,
   "metadata": {
    "scrolled": true
   },
   "outputs": [],
   "source": [
    "df = pd.read_csv('../Applause_files/testers.csv')\n",
    "df.to_sql('testers', con, if_exists='replace', index=False)\n",
    "\n",
    "df = pd.read_csv('../Applause_files/devices_devicename.csv')\n",
    "df.to_sql('devices', con, if_exists='replace', index=False)\n",
    "\n",
    "df = pd.read_csv('../Applause_files/tester_device.csv')\n",
    "df.to_sql('tester_device', con, if_exists='replace', index=False)\n",
    "\n",
    "df = pd.read_csv('../Applause_files/bugs.csv')\n",
    "df.to_sql('bugs', con, if_exists='replace', index=False)\n",
    "\n",
    "del df"
   ]
  },
  {
   "cell_type": "code",
   "execution_count": 7,
   "metadata": {},
   "outputs": [
    {
     "name": "stdout",
     "output_type": "stream",
     "text": [
      "('Taybin', 'Rutkin', 125)\n",
      "('Lucas', 'Lowry', 117)\n",
      "('Sean', 'Wellington', 116)\n",
      "('Miguel', 'Bautista', 114)\n",
      "('Stanley', 'Chen', 110)\n",
      "('Mingquan', 'Zheng', 109)\n",
      "('Leonard', 'Sutton', 106)\n",
      "('Darshini', 'Thiagarajan', 104)\n",
      "('Michael', 'Lubavin', 99)\n"
     ]
    }
   ],
   "source": [
    "query1 = \"\"\"\n",
    "SELECT firstName, lastName, COUNT(bugId) AS bugs_found\n",
    "FROM testers \n",
    "INNER JOIN bugs\n",
    "ON testers.testerId = bugs.testerId\n",
    "GROUP BY  firstName, lastName\n",
    "ORDER BY COUNT(bugId) DESC;\n",
    "\"\"\"\n",
    "\n",
    "cur.execute(query1)\n",
    "\n",
    "rows = cur.fetchall()\n",
    "\n",
    "for row in rows:\n",
    "    print(row)"
   ]
  },
  {
   "cell_type": "code",
   "execution_count": 8,
   "metadata": {},
   "outputs": [
    {
     "name": "stdout",
     "output_type": "stream",
     "text": [
      "('Stanley', 'Chen', 110)\n",
      "('Taybin', 'Rutkin', 66)\n",
      "('Sean', 'Wellington', 58)\n",
      "('Miguel', 'Bautista', 53)\n",
      "('Leonard', 'Sutton', 32)\n",
      "('Mingquan', 'Zheng', 21)\n"
     ]
    }
   ],
   "source": [
    "query2 = \"\"\"\n",
    "SELECT firstName, lastName, COUNT(bugId) AS bugs_found\n",
    "FROM bugs \n",
    "INNER JOIN testers\n",
    "ON bugs.testerid = testers.testerid\n",
    "INNER JOIN devices\n",
    "ON bugs.deviceId = devices.deviceId\n",
    "WHERE deviceName IN ('iPhone 4', 'iPhone 5') /* case sensitive */\n",
    "GROUP BY firstName, lastName\n",
    "ORDER BY COUNT(bugId) DESC;\n",
    "\"\"\"\n",
    "\n",
    "cur.execute(query2)\n",
    "\n",
    "rows = cur.fetchall()\n",
    "\n",
    "for row in rows:\n",
    "    print(row)"
   ]
  },
  {
   "cell_type": "code",
   "execution_count": 9,
   "metadata": {},
   "outputs": [
    {
     "name": "stdout",
     "output_type": "stream",
     "text": [
      "('Taybin', 'Rutkin', 125)\n",
      "('Lucas', 'Lowry', 117)\n",
      "('Sean', 'Wellington', 116)\n",
      "('Miguel', 'Bautista', 114)\n",
      "('Mingquan', 'Zheng', 109)\n",
      "('Michael', 'Lubavin', 99)\n"
     ]
    }
   ],
   "source": [
    "query3 = \"\"\"\n",
    "SELECT firstName, lastName, COUNT(bugId) AS bugs_found\n",
    "FROM testers\n",
    "INNER JOIN bugs\n",
    "ON testers.testerId = bugs.testerId\n",
    "WHERE country IN ('US', 'JP') /* case sensitive */\n",
    "GROUP BY firstName, lastName\n",
    "ORDER BY COUNT(bugId) DESC;\n",
    "\"\"\"\n",
    "\n",
    "cur.execute(query3)\n",
    "\n",
    "rows = cur.fetchall()\n",
    "\n",
    "for row in rows:\n",
    "    print(row)"
   ]
  },
  {
   "cell_type": "code",
   "execution_count": 10,
   "metadata": {},
   "outputs": [
    {
     "name": "stdout",
     "output_type": "stream",
     "text": [
      "('Taybin', 'Rutkin', 66)\n",
      "('Sean', 'Wellington', 58)\n",
      "('Miguel', 'Bautista', 53)\n",
      "('Mingquan', 'Zheng', 21)\n"
     ]
    }
   ],
   "source": [
    "query4 = \"\"\"\n",
    "SELECT firstName, lastName, COUNT(bugId) AS bugs_found\n",
    "FROM bugs\n",
    "INNER JOIN testers\n",
    "ON bugs.testerId = testers.testerId\n",
    "INNER JOIN devices\n",
    "ON bugs.deviceId = devices.deviceId\n",
    "WHERE country IN ('US', 'JP') /* case sensitive */ AND devicename IN ('iPhone 4', 'iPhone 5') /* case sensitive */\n",
    "GROUP BY firstName, lastName\n",
    "ORDER BY COUNT(bugId) DESC;\n",
    "\"\"\"\n",
    "\n",
    "cur.execute(query4)\n",
    "\n",
    "rows = cur.fetchall()\n",
    "\n",
    "for row in rows:\n",
    "    print(row)"
   ]
  }
 ],
 "metadata": {
  "kernelspec": {
   "display_name": "Applause",
   "language": "python",
   "name": "applause"
  },
  "language_info": {
   "codemirror_mode": {
    "name": "ipython",
    "version": 3
   },
   "file_extension": ".py",
   "mimetype": "text/x-python",
   "name": "python",
   "nbconvert_exporter": "python",
   "pygments_lexer": "ipython3",
   "version": "3.7.4"
  }
 },
 "nbformat": 4,
 "nbformat_minor": 2
}
