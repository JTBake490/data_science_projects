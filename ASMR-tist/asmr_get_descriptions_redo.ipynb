{
 "cells": [
  {
   "cell_type": "code",
   "execution_count": 1,
   "metadata": {},
   "outputs": [],
   "source": [
    "import json\n",
    "from time import sleep\n",
    "from random import uniform\n",
    "\n",
    "from pytube import YouTube"
   ]
  },
  {
   "cell_type": "code",
   "execution_count": 2,
   "metadata": {},
   "outputs": [],
   "source": [
    "with open('asmrtist_vids.json') as file:\n",
    "    top_vids = json.load(file)"
   ]
  },
  {
   "cell_type": "code",
   "execution_count": 3,
   "metadata": {},
   "outputs": [],
   "source": [
    "top_vids = {key.replace(' ', ''): value for key, value in top_vids.items()}"
   ]
  },
  {
   "cell_type": "code",
   "execution_count": 4,
   "metadata": {},
   "outputs": [],
   "source": [
    "asmrtists = [key for key in top_vids.keys()]"
   ]
  },
  {
   "cell_type": "code",
   "execution_count": 5,
   "metadata": {},
   "outputs": [],
   "source": [
    "video_unavailable = []"
   ]
  },
  {
   "cell_type": "code",
   "execution_count": 6,
   "metadata": {},
   "outputs": [],
   "source": [
    "def get_descriptions(urls: list) -> list:\n",
    "    '''For each url in the tuple provided, scrape the descriptions and store them in a list'''\n",
    "    descriptions = []\n",
    "    for url in urls:\n",
    "            desc = YouTube(url).description\n",
    "            descriptions.append(desc)\n",
    "            sleep(uniform(2, 4))\n",
    "    return descriptions"
   ]
  },
  {
   "cell_type": "code",
   "execution_count": 7,
   "metadata": {},
   "outputs": [],
   "source": [
    "# def get_descriptions(urls: list) -> list:\n",
    "#     '''For each url in the tuple provided, scrape the descriptions and store them in a list'''\n",
    "#     descriptions = []\n",
    "#     for url in urls:\n",
    "#         desc = YouTube(url).description\n",
    "#         descriptions.append(desc)\n",
    "#         sleep(uniform(2, 4))\n",
    "#     return descriptions"
   ]
  },
  {
   "cell_type": "code",
   "execution_count": 8,
   "metadata": {
    "scrolled": true
   },
   "outputs": [],
   "source": [
    "# asmr_descriptions = {}\n",
    "# for asmrtist in asmrtists:\n",
    "#     asmrtist_urls = top_vids[asmrtist]\n",
    "#     asmrtist_top_descriptions = get_descriptions(asmrtist_urls)\n",
    "#     asmr_descriptions[asmrtist] = asmrtist_top_descriptions "
   ]
  },
  {
   "cell_type": "code",
   "execution_count": 9,
   "metadata": {},
   "outputs": [],
   "source": [
    "# asmrtists_second_half = asmrtists[5:]\n",
    "# for asmrtist in asmrtists_second_half:\n",
    "#     asmrtist_urls = top_vids[asmrtist]\n",
    "#     asmrtist_top_descriptions = get_descriptions(asmrtist_urls)\n",
    "#     asmr_descriptions[asmrtist] = asmrtist_top_descriptions "
   ]
  },
  {
   "cell_type": "code",
   "execution_count": 10,
   "metadata": {},
   "outputs": [
    {
     "ename": "NameError",
     "evalue": "name 'asmr_descriptions' is not defined",
     "output_type": "error",
     "traceback": [
      "\u001b[1;31m---------------------------------------------------------------------------\u001b[0m",
      "\u001b[1;31mNameError\u001b[0m                                 Traceback (most recent call last)",
      "\u001b[1;32m<ipython-input-10-d13092d594ca>\u001b[0m in \u001b[0;36m<module>\u001b[1;34m\u001b[0m\n\u001b[1;32m----> 1\u001b[1;33m \u001b[0mprint\u001b[0m\u001b[1;33m(\u001b[0m\u001b[0masmr_descriptions\u001b[0m\u001b[1;33m.\u001b[0m\u001b[0mkeys\u001b[0m\u001b[1;33m(\u001b[0m\u001b[1;33m)\u001b[0m\u001b[1;33m)\u001b[0m\u001b[1;33m\u001b[0m\u001b[1;33m\u001b[0m\u001b[0m\n\u001b[0m",
      "\u001b[1;31mNameError\u001b[0m: name 'asmr_descriptions' is not defined"
     ]
    }
   ],
   "source": [
    "print(asmr_descriptions.keys())"
   ]
  },
  {
   "cell_type": "code",
   "execution_count": null,
   "metadata": {},
   "outputs": [],
   "source": [
    "# with open('asmrtist_top_descriptions.json', 'w') as file:\n",
    "#     json.dump(asmr_descriptions, file)"
   ]
  }
 ],
 "metadata": {
  "kernelspec": {
   "display_name": "asmr",
   "language": "python",
   "name": "asmr"
  },
  "language_info": {
   "codemirror_mode": {
    "name": "ipython",
    "version": 3
   },
   "file_extension": ".py",
   "mimetype": "text/x-python",
   "name": "python",
   "nbconvert_exporter": "python",
   "pygments_lexer": "ipython3",
   "version": "3.7.5"
  }
 },
 "nbformat": 4,
 "nbformat_minor": 2
}
