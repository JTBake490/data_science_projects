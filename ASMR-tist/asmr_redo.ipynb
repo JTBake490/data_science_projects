{
 "cells": [
  {
   "cell_type": "code",
   "execution_count": 6,
   "metadata": {},
   "outputs": [],
   "source": [
    "from urllib.request import urlopen\n",
    "from random import uniform\n",
    "from time import sleep\n",
    "import json\n",
    "\n",
    "from bs4 import BeautifulSoup"
   ]
  },
  {
   "cell_type": "code",
   "execution_count": 2,
   "metadata": {},
   "outputs": [],
   "source": [
    "asmrtist_top_vids = ('https://www.youtube.com/user/MassageASMR/videos?view=0&sort=p&flow=grid',\n",
    "                    'https://www.youtube.com/channel/UClqNSqnWeOOUVkzcJFj4rBw/videos?view=0&sort=p&flow=grid',\n",
    "                    'https://www.youtube.com/user/GentleWhispering/videos?view=0&sort=p&flow=grid',\n",
    "                    'https://www.youtube.com/user/WhispersRedASMR/videos?view=0&sort=p&flow=grid',\n",
    "                    'https://www.youtube.com/channel/UCE6acMV3m35znLcf0JGNn7Q/videos?view=0&sort=p&flow=grid',\n",
    "                    'https://www.youtube.com/user/ASMRrequests/videos?view=0&sort=p&flow=grid',\n",
    "                    'https://www.youtube.com/channel/UCikebqFWoT3QC9axUbXCPYw/videos?view=0&sort=p&flow=grid',\n",
    "                    'https://www.youtube.com/user/ASMRSURGE/videos?view=0&sort=p&flow=grid',\n",
    "                    'https://www.youtube.com/channel/UCjyi6by44TTH0j_U3vXEGpA/videos?view=0&sort=p&flow=grid',\n",
    "                    'https://www.youtube.com/user/xxxibchoi/videos?view=0&sort=p&flow=grid')"
   ]
  },
  {
   "cell_type": "code",
   "execution_count": 3,
   "metadata": {},
   "outputs": [],
   "source": [
    "def get_top_vids(urls: tuple) -> dict:\n",
    "    '''Scrape the titles and links of the top ten most popular videos per ASMR YouTuber chosen.'''\n",
    "    vids_dict = {}\n",
    "    for url in urls:\n",
    "        page = urlopen(url).read()\n",
    "        soup = BeautifulSoup(page, 'html.parser')\n",
    "        title = soup.title.text[:-10].strip()\n",
    "        top_vids = tuple('youtube.com'+link.a['href'] for link in soup.find_all('h3', attrs={'class':'yt-lockup-title'}))[:10]\n",
    "        vids_dict[title] = top_vids\n",
    "        sleep(uniform(4, 7))\n",
    "    return vids_dict"
   ]
  },
  {
   "cell_type": "code",
   "execution_count": 4,
   "metadata": {},
   "outputs": [],
   "source": [
    "# top_vids = get_top_vids(asmrtist_top_vids)"
   ]
  },
  {
   "cell_type": "code",
   "execution_count": 8,
   "metadata": {},
   "outputs": [],
   "source": [
    "with open('asmrtist_vids.json', 'w') as file:\n",
    "    json.dump(top_vids, file)"
   ]
  },
  {
   "cell_type": "code",
   "execution_count": null,
   "metadata": {},
   "outputs": [],
   "source": []
  }
 ],
 "metadata": {
  "kernelspec": {
   "display_name": "asmr",
   "language": "python",
   "name": "asmr"
  },
  "language_info": {
   "codemirror_mode": {
    "name": "ipython",
    "version": 3
   },
   "file_extension": ".py",
   "mimetype": "text/x-python",
   "name": "python",
   "nbconvert_exporter": "python",
   "pygments_lexer": "ipython3",
   "version": "3.7.5"
  }
 },
 "nbformat": 4,
 "nbformat_minor": 2
}
