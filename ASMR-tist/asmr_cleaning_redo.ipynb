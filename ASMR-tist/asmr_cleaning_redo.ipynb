{
 "cells": [
  {
   "cell_type": "code",
   "execution_count": 1,
   "metadata": {},
   "outputs": [],
   "source": [
    "from operator import concat\n",
    "from functools import reduce\n",
    "import re\n",
    "import json"
   ]
  },
  {
   "cell_type": "code",
   "execution_count": 2,
   "metadata": {},
   "outputs": [],
   "source": [
    "with open('asmrtist_top_descriptions.json') as file:\n",
    "    top_descriptions = json.load(file)\n",
    "    top_descriptions = {key.lower(): value for key, value in top_descriptions.items()}"
   ]
  },
  {
   "cell_type": "code",
   "execution_count": 3,
   "metadata": {},
   "outputs": [],
   "source": [
    "asmrtists_names = iter([name.lower() for name in top_descriptions.keys()])"
   ]
  },
  {
   "cell_type": "code",
   "execution_count": 4,
   "metadata": {},
   "outputs": [],
   "source": [
    "cleaned_descriptions = {}"
   ]
  },
  {
   "cell_type": "code",
   "execution_count": 5,
   "metadata": {},
   "outputs": [],
   "source": [
    "locals().update(top_descriptions)"
   ]
  },
  {
   "cell_type": "code",
   "execution_count": 6,
   "metadata": {},
   "outputs": [],
   "source": [
    "filter_single_letters = lambda values: list(filter(lambda x: len(x) > 1, values))"
   ]
  },
  {
   "cell_type": "code",
   "execution_count": 7,
   "metadata": {},
   "outputs": [
    {
     "data": {
      "text/plain": [
       "dict_keys(['massageasmr', 'tingtingasmr', 'gentlewhisperingasmr', 'whispersredasmr', 'gibiasmr', 'asmrrequests', 'asmrdarling', 'asmrsurge', \"jojo'sasmr\", 'zachchoiasmr'])"
      ]
     },
     "execution_count": 7,
     "metadata": {},
     "output_type": "execute_result"
    }
   ],
   "source": [
    "top_descriptions.keys()"
   ]
  },
  {
   "cell_type": "markdown",
   "metadata": {},
   "source": [
    "### MassageASMR"
   ]
  },
  {
   "cell_type": "code",
   "execution_count": 8,
   "metadata": {
    "scrolled": true
   },
   "outputs": [],
   "source": [
    "def clean_massage_descriptions(description):\n",
    "    clean = []\n",
    "    for desc in description:\n",
    "        desc = desc.split('If you would')[0]\n",
    "        desc = re.sub('htt.*?\\\\n','', desc)\n",
    "        desc = re.sub('\\W', ' ', desc)\n",
    "        desc = re.sub(r'\\\\n', ' ', desc)\n",
    "        desc = re.sub('\\W', ' ', desc)\n",
    "        desc = re.sub('\\d', ' ', desc)\n",
    "        clean.append(re.sub('\\s{2,}', ' ', desc).lower().strip().split())\n",
    "    return reduce(concat, clean)"
   ]
  },
  {
   "cell_type": "code",
   "execution_count": 9,
   "metadata": {},
   "outputs": [],
   "source": [
    "clean_massageasmr = clean_massage_descriptions(massageasmr)\n",
    "clean_massageasmr = filter_single_letters(clean_massageasmr)\n",
    "cleaned_descriptions[next(asmrtists_names)] = clean_massageasmr"
   ]
  },
  {
   "cell_type": "markdown",
   "metadata": {},
   "source": [
    "### Tingting ASMR"
   ]
  },
  {
   "cell_type": "code",
   "execution_count": 10,
   "metadata": {},
   "outputs": [],
   "source": [
    "def clean_tingting_descriptions(description):\n",
    "    clean = []\n",
    "    for desc in description:\n",
    "        desc = desc.split('~')[0].split('Support')[0]\n",
    "        desc = re.sub(\"'\", '', desc)\n",
    "        desc = re.sub(r'\\\\n', ' ', desc)\n",
    "        desc = re.sub('\\W', ' ', desc)\n",
    "        desc = re.sub('\\d', ' ', desc)\n",
    "        clean.append(re.sub('\\s{2,}', ' ', desc).lower().strip().split())\n",
    "    return reduce(concat, clean)"
   ]
  },
  {
   "cell_type": "code",
   "execution_count": 11,
   "metadata": {},
   "outputs": [],
   "source": [
    "clean_tingting = clean_tingting_descriptions(tingtingasmr)\n",
    "clean_tingting = filter_single_letters(clean_tingting)\n",
    "cleaned_descriptions[next(asmrtists_names)] = clean_tingting"
   ]
  },
  {
   "cell_type": "markdown",
   "metadata": {},
   "source": [
    "### GentleWhispering ASMR"
   ]
  },
  {
   "cell_type": "code",
   "execution_count": 12,
   "metadata": {},
   "outputs": [],
   "source": [
    "def clean_gentle_descriptions(description):\n",
    "    clean = []\n",
    "    for desc in description:\n",
    "        desc = re.sub('htt.*?\\\\n','', desc.split('This video is created for')[0]).split('Products')[0]\n",
    "        desc = re.sub(\"'\", '', desc)\n",
    "        desc = re.sub(r'\\\\n', ' ', desc)\n",
    "        desc = re.sub('\\W', ' ', desc)\n",
    "        desc = re.sub('\\d', ' ', desc)\n",
    "        clean.append(re.sub('\\s{2,}', ' ', desc).lower().strip().split())\n",
    "    return reduce(concat, clean)"
   ]
  },
  {
   "cell_type": "code",
   "execution_count": 13,
   "metadata": {
    "scrolled": true
   },
   "outputs": [],
   "source": [
    "clean_gentle = clean_gentle_descriptions(gentlewhisperingasmr)\n",
    "clean_gentle = filter_single_letters(clean_gentle)\n",
    "cleaned_descriptions[next(asmrtists_names)] = clean_gentle"
   ]
  },
  {
   "cell_type": "code",
   "execution_count": 14,
   "metadata": {},
   "outputs": [
    {
     "data": {
      "text/plain": [
       "dict_keys(['massageasmr', 'tingtingasmr', 'gentlewhisperingasmr', 'whispersredasmr', 'gibiasmr', 'asmrrequests', 'asmrdarling', 'asmrsurge', \"jojo'sasmr\", 'zachchoiasmr'])"
      ]
     },
     "execution_count": 14,
     "metadata": {},
     "output_type": "execute_result"
    }
   ],
   "source": [
    "top_descriptions.keys()"
   ]
  },
  {
   "cell_type": "markdown",
   "metadata": {},
   "source": [
    "### WhispersRed ASMR"
   ]
  },
  {
   "cell_type": "code",
   "execution_count": 15,
   "metadata": {},
   "outputs": [],
   "source": [
    "def clean_red_descriptions(description):\n",
    "    clean = []\n",
    "    for desc in description:\n",
    "        desc = desc.split('---')[0].split('My ASMR Book')[0].split('Please LIKE')[0]\n",
    "        desc = re.sub('htt.*?\\\\n','', desc)\n",
    "        desc = re.sub(\"'\", '', desc)\n",
    "        desc = re.sub(r'\\\\n', ' ', desc)\n",
    "        desc = re.sub('\\W', ' ', desc)\n",
    "        desc = re.sub('\\d', ' ', desc)\n",
    "        clean.append(re.sub('\\s{2,}', ' ', desc).lower().strip().split())\n",
    "    return reduce(concat, clean)"
   ]
  },
  {
   "cell_type": "code",
   "execution_count": 16,
   "metadata": {},
   "outputs": [],
   "source": [
    "clean_red = clean_red_descriptions(whispersredasmr)\n",
    "clean_red = filter_single_letters(clean_red)\n",
    "cleaned_descriptions[next(asmrtists_names)] = clean_red"
   ]
  },
  {
   "cell_type": "markdown",
   "metadata": {},
   "source": [
    "### Gibi ASMR"
   ]
  },
  {
   "cell_type": "code",
   "execution_count": 17,
   "metadata": {},
   "outputs": [],
   "source": [
    "def clean_gibi_descriptions(description):\n",
    "    clean = []\n",
    "    for desc in description:\n",
    "        desc = desc.split('---')[0]\n",
    "        desc = re.sub('htt.*?\\\\n','', desc)\n",
    "        desc = re.sub(r'\\\\n', ' ', desc)\n",
    "        desc = re.sub('\\W', ' ', desc)\n",
    "        desc = re.sub('\\d', ' ', desc)\n",
    "        clean.append(re.sub('\\s{2,}', ' ', desc).lower().strip().split())\n",
    "    return reduce(concat, clean)"
   ]
  },
  {
   "cell_type": "code",
   "execution_count": 18,
   "metadata": {},
   "outputs": [],
   "source": [
    "clean_gibi = clean_gibi_descriptions(gibiasmr)\n",
    "clean_gibi = filter_single_letters(clean_gibi)\n",
    "cleaned_descriptions[next(asmrtists_names)] = clean_gibi"
   ]
  },
  {
   "cell_type": "code",
   "execution_count": 32,
   "metadata": {},
   "outputs": [
    {
     "data": {
      "text/plain": [
       "[\"Hey everybody (: I darkened this video footage a bit as a little test to make this tapping video a bit more sleep-inducing! Let me know if it's something you like! Excuse the fact that I look a bit uh...ratchet in this video. My skin has been revolting against me. *sigh*\\nI wanted to shoot a classic trigger video because my natural nails are the longest they've ever been and lord knows I'm going to accidentally break them sooner rather than later so... whee! There's not much to say, but I hope you enjoy the whispered rambling and tapping/scratching of some new and some familiar objects C:\\nTodoroki charm: https://www.etsy.com/listing/57091790...\\nTIMESTAMPS! \\n0:00 Intro\\n1:00 Toaster Coaster\\n7:09 iPhone\\n14:50 Faux Snakeskin\\n21:26 Moisturizer Jar\\n------------------------------------------------------------------------------------------\\nMy upload schedule:\\n►Every Tuesday\\n►Every Thursday\\n►Every Saturday\\n------------------------------------------------------------------------------------------\\n(💖☀️Seeking Therapy or Counseling? Try online.)\\nhttp://www.tryonlinetherapy.com/gibia... \\nI find that I get a lot of comments and messages about using ASMR for anxiety, depression, and more. I can totally relate with that, and ASMR is an awesome outlet for those things. However, if you’re interested, above is a link to a website with real, professional & licensed counselors. You can type to them, or call them! It’s actually a really cool service and I use it personally. It costs as low as $35 a week, and you don’t have to leave your house to use it. :)\\nFTC: By using my BetterHelp referral link you are supporting this channel. I receive commissions on any sales, but I only promote products I believe in. (I use this website to talk to my own personal therapist!)\\nI also donate regularly to The Brain and Behavior Research Foundation. I highly recommend it! They give grants to scientists who do studies to better understand and treat mental illnesses.\\n(http://bbrfoundation.org/)\\n------------------------------------------------------------------------------------------\\nThe last ASMR video to help me sleep: \\nhttps://www.youtube.com/watch?v=bNBU8...\\nxxGibi\\n------------------------------------------------------------------------------------------\\nFind me on the internet!\\n►PATREON: https://www.patreon.com/gibiasmr\\n►INSTAGRAM: https://www.instagram.com/GibiOfficial\\n►FACEBOOK: https://www.fb.me/gibiasmr\\n►TWITTER: https://www.twitter.com/GibiOfficial (I use this the most)\\n►SHOP: https://teespring.com/stores/gibi-off...\\n►EU SHOP: https://teespring.com/stores/gibi-off...\\n►GAMING CHANNEL: https://goo.gl/a75KLT\\n►TWITCH/LIVESTREAMING: https://www.twitch.tv/gggibi\\n------------------------------------------------------------------------------------------\\nThank you to my assistant Shawn, for editing this video!! Feel free to compliment his wonderful work anytime :D (you can find him here: https://twitter.com/MrTheVestman)\",\n",
       " 'Join Honey for FREE at https://joinhoney.com/gibi\\nHoney\\'s 10 million members save an average of $30 on sites like Amazon, eBay, J. Crew, GameStop, Etsy, Newegg, and more!\\nHow do yall like my makeup? ;D LOL It was professionally done that morning and I was like \"HELL NAH AM I LETTING THIS GO TO WASTE\" and filmed like three videos that day. Lol.\\nAlso LOL that Vest went and got the screengrab for the shoes...so don\\'t mind that they\\'re Mens...and in Canadian dollars... \\nThe scratching and sounds got pretty intense in this!!! I know it might not be for everyone, but I hope those of you who enjoy this type of trigger also enjoy this video :D\\nI’m now on Spotify! Listen while your phone is off :) ►SPOTIFY: https://open.spotify.com/artist/56r9c...\\n-----------------------------------------------------------------------------------------\\nMy upload schedule:\\n►Every Tuesday\\n►Every Thursday\\n►Every Saturday\\n------------------------------------------------------------------------------------------\\n(💖☀️Seeking Therapy or Counseling? Try online.)\\nhttp://www.tryonlinetherapy.com/gibia... \\nI find that I get a lot of comments and messages about using ASMR for anxiety, depression, and more. I can totally relate with that, and ASMR is an awesome outlet for those things. However, if you’re interested, above is a link to a website with real, professional & licensed counselors. You can type to them, or call them! It’s actually a really cool service and I use it personally. It costs as low as $35 a week, and you don’t have to leave your house to use it. :)\\nFTC: By using my BetterHelp referral link you are supporting this channel. I receive commissions on any sales, but I only promote products I believe in. (I use this website to talk to my own personal therapist!)\\nI also donate regularly to The Brain and Behavior Research Foundation. I highly recommend it! They give grants to scientists who do studies to better understand and treat mental illnesses.\\n(http://bbrfoundation.org/)\\n------------------------------------------------------------------------------------------\\nThe last ASMR video to help me sleep: \\nhttps://www.youtube.com/watch?v=D4XyZ...\\nxxGibi\\n------------------------------------------------------------------------------------------\\nFind me on the internet!\\n►SPOTIFY: https://open.spotify.com/artist/56r9c...\\n►TWITCH/LIVESTREAMING: https://www.twitch.tv/gggibi\\n►TWITTER: https://www.twitter.com/GibiOfficial (I use this the most)\\n►INSTAGRAM: https://www.instagram.com/GibiOfficial\\n►SHOP: https://teespring.com/stores/gibi-off...\\n►EU SHOP: https://teespring.com/stores/gibi-off...\\n►GAMING CHANNEL: https://goo.gl/a75KLT\\n------------------------------------------------------------------------------------------\\nThank you to my assistant Shawn, for editing this video!! Feel free to compliment his wonderful work anytime :D (you can find him here: https://twitter.com/MrTheVestman)',\n",
       " 'Enjoy this luxury sleep treatment -- designed to get you some well-deserved rest! The first half is dedicated to setting you up in maximum comfort -- with a robe, pillow, sleep spray, lotion/moisturizer, and candles.\\nThen enjoy some face and ear brushing and quiet affirmations. I wanted this video to eventually fade in audio, so the quieter triggers are at the end in hopes that most of you will be asleep!! \\nHave a wonderful weekend everybody :)\\nxx Gibi\\nASMR Headphones (I use every night!): https://goo.gl/RikNCK\\n------------------------------------------------------------------------------------------\\nMy upload schedule:\\n►Every Tuesday\\n►Every Thursday\\n►Every Saturday\\n------------------------------------------------------------------------------------------\\n(💖☀️Seeking Therapy or Counseling? Try online.)\\nhttp://www.tryonlinetherapy.com/gibia... \\nI find that I get a lot of comments and messages about using ASMR for anxiety, depression, and more. I can totally relate with that, and ASMR is an awesome outlet for those things. However, if you’re interested, above is a link to a website with real, professional & licensed counselors. You can type to them, or call them! It’s actually a really cool service and I use it personally. It costs as low as $35 a week, and you don’t have to leave your house to use it. :)\\nFTC: By using my BetterHelp referral link you are supporting this channel. I receive commissions on any sales, but I only promote products I believe in. (I use this website to talk to my own personal therapist!)\\nI also donate regularly to The Brain and Behavior Research Foundation. I highly recommend it! They give grants to scientists who do studies to better understand and treat mental illnesses.\\n(http://bbrfoundation.org/)\\n------------------------------------------------------------------------------------------\\nThe last ASMR video to help me sleep: \\nhttps://www.youtube.com/watch?v=J45HT...\\nxxGibi\\n------------------------------------------------------------------------------------------\\nFind me on the internet!\\n►PATREON: https://www.patreon.com/gibiasmr\\n►INSTAGRAM: https://www.instagram.com/GibiOfficial\\n►FACEBOOK: https://www.fb.me/gibiasmr\\n►TWITTER: https://www.twitter.com/GibiOfficial (I use this the most)\\n►SHOP: https://teespring.com/stores/gibi-off...\\n►EU SHOP: https://teespring.com/stores/gibi-off...\\n►GAMING CHANNEL: https://goo.gl/a75KLT\\n►TWITCH/LIVESTREAMING: https://www.twitch.tv/gggibi\\n------------------------------------------------------------------------------------------\\nThank you to my assistant Shawn, who is editing some of my videos this month while I catch up on other work!! Feel free to compliment his wonderful work anytime :D (you can find him here: https://twitter.com/MrTheVestman)',\n",
       " 'Welcome to my (almost) hour long cranial nerve exam! The doctor is ready to see you now.\\n------------------------------------------------------------------------------------------\\nThank you so much to my patron Nico for requesting this video!! It was insane to film (I had to re-do the opening/end about 4 times...so apologies for my characters insane demeanor/ever-changing accent. It was 3am.)\\nThe actual doctor bit starts at 7:49 - if you so desire!\\nThis video features plenty of noises, from whispering & soft-speaking to writing noises, personal attention, following the light, tapping, scratching, touching, examining, and plenty more! I hope you enjoy.\\nxxGibi\\n------------------------------------------------------------------------------------------\\n(Seeking Therapy or Counseling? Try online.)\\nSide note, I find that I get a lot of comments and messages about using ASMR for anxiety, depression, and more. I can totally relate with that, and ASMR is an awesome outlet for those things. However, if you’re interested, here is a link to a website with real, professional & licensed counselors. You can type to them, or call them! It’s actually a really cool service and I use it personally. It costs as low as $35 a week, and you don’t have to leave your house to use it. :)\\nHere you go!: http://www.tryonlinetherapy.com/gibia... \\nFTC: By using my BetterHelp referral link you are supporting this channel. I receive commissions on any sales, but I only promote products I believe in. (I use this website to talk to my own personal therapist!)\\nI also donate regularly to The Brain and Behavior Research Foundation. I highly recommend it! They give grants to scientists who do studies to better understand and treat mental illnesses.\\n(http://bbrfoundation.org/)\\n------------------------------------------------------------------------------------------\\n------------------------------------------------------------------------------------------\\nFind me on the internet!\\nBUSINESS INQUIRIES: gbcosplay@gmail.com\\nPATREON: https://www.patreon.com/gibiasmr\\nINSTAGRAM: https://www.instagram.com/GibiOfficial\\nFACEBOOK: https://www.fb.me/gibiasmr\\nTWITTER: https://www.twitter.com/GibiOfficial (I use this the most)\\nBUY STICKERS *NEW*: http://gibi.bigcartel.com/\\n------------------------------------------------------------------------------------------\\nSleep well, and tingle on.\\nxxGibi',\n",
       " \"Hey guys!!!! I'm so excited to show you this video because I've ALWays loved watching sleep clinic vids! They're just an excuse for me to whip out some great triggers I've been wanting to use for a while 8-) Thank you to my Patron Andreas for requesting this idea!\\nForgive me for the shoddy green screen work -- I know what I did wrong but didn't realize it until after a full days' worth of shooting videos... Quality will be back up after this vid!\\nTime Table of Trigger Tests:\\n0:00 - Intro\\n2:04 - Blood Pressure check\\n3:08 - Questionnaire (feat. stomach rumblings) \\n4:30 - Receiving your pillow!\\n5:13 - Getting your robe!\\n6:00 - Hand movements / finger following\\n10:05 - SleepPhones (I actually really really recommend these. I never go a night without them and I watch ALL THE ASMR VIDS MUAHAHA. I'll put a link below.)\\n14:08 - Tapping (Cork candles & cardboard coasters)\\n17:18 - Spritz/spray bottle\\n19:03 - Glass droppers with rubber tops \\n20:54 - Liquid sounds (bottle tipping, dropper dripping)\\n23:05 - Face brushing /ear (microphone) brushing\\n25:00 - Lid sounds, smelling\\n27:25 - Wrap up, blood pressure, farewell!\\nI have the corded SleepPhones, in both fabrics! They're both nice in their own way :) I tend to use the fleece ones more just because I get chilly at night. Update: I actually got a link! Yay! Here ya go:\\nhttps://www.sleepphones.com/?aff=8\\nArt Credit to my Twitter pal @IBGNCHaMa for my end screen!\\n------------------------------------------------------------------------------------------\\nSee you Tuesday with the name video!!! There will only be ONE more, so sign up at patreon.com/gibiasmr before August 1st to get into the last (official) name trigger vid! \\n------------------------------------------------------------------------------------------\\n(Seeking Therapy or Counseling? Try online.)\\nSide note, I find that I get a lot of comments and messages about using ASMR for anxiety, depression, and more. I can totally relate with that, and ASMR is an awesome outlet for those things. However, if you’re interested, here is a link to a website with real, professional & licensed counselors. You can type to them, or call them! It’s actually a really cool service and I use it personally. It costs as low as $35 a week, and you don’t have to leave your house to use it. :)\\nHere you go!: http://www.tryonlinetherapy.com/gibia... \\nFTC: By using my BetterHelp referral link you are supporting this channel. I receive commissions on any sales, but I only promote products I believe in. (I use this website to talk to my own personal therapist!)\\nI also donate regularly to The Brain and Behavior Research Foundation. I highly recommend it! They give grants to scientists who do studies to better understand and treat mental illnesses.\\n(http://bbrfoundation.org/)\\n------------------------------------------------------------------------------------------\\nThe last ASMR video to help me sleep: \\nhttps://www.youtube.com/watch?v=7yWvq...\\nxxGibi\\n------------------------------------------------------------------------------------------\\nFind me on the internet!\\nBUSINESS INQUIRIES: gbcosplay@gmail.com\\nPATREON: https://www.patreon.com/gibiasmr\\nINSTAGRAM: https://www.instagram.com/GibiOfficial\\nFACEBOOK: https://www.fb.me/gibiasmr\\nTWITTER: https://www.twitter.com/GibiOfficial (I use this the most)\\nBUY STICKERS *NEW*: http://gibi.bigcartel.com/\\n------------------------------------------------------------------------------------------\",\n",
       " \"Helllooo everybody!! This microphone touching video is pretty intense in terms of the bass-y sounds that interacting with the foam cover produces, so it might not be for everyone, but I got a few requests to get up in your ears a bit more! I hope you enjoy. I'll use a few tools like brushes etc., but mostly just touching the microphone with my hands and whispering as close as I can get! :)\\nSleep well, and have a wonderful weekend... ^^\\n-----------------------------------------------------------------------------------------\\nMy upload schedule:\\n►Every Tuesday\\n►Every Thursday\\n►Every Saturday\\n------------------------------------------------------------------------------------------\\n(💖☀️Seeking Therapy or Counseling? Try online.)\\nhttp://www.tryonlinetherapy.com/gibia... \\nI find that I get a lot of comments and messages about using ASMR for anxiety, depression, and more. I can totally relate with that, and ASMR is an awesome outlet for those things. However, if you’re interested, above is a link to a website with real, professional & licensed counselors. You can type to them, or call them! It’s actually a really cool service and I use it personally. It costs as low as $35 a week, and you don’t have to leave your house to use it. :)\\nFTC: By using my BetterHelp referral link you are supporting this channel. I receive commissions on any sales, but I only promote products I believe in. (I use this website to talk to my own personal therapist!)\\nI also donate regularly to The Brain and Behavior Research Foundation. I highly recommend it! They give grants to scientists who do studies to better understand and treat mental illnesses.\\n(http://bbrfoundation.org/)\\n------------------------------------------------------------------------------------------\\nThe last ASMR video to help me sleep: \\nhttps://www.youtube.com/watch?v=1YPRK...\\nxxGibi\\n------------------------------------------------------------------------------------------\\nFind me on the internet!\\n►PATREON: https://www.patreon.com/gibiasmr\\n►INSTAGRAM: https://www.instagram.com/GibiOfficial\\n►FACEBOOK: https://www.fb.me/gibiasmr\\n►TWITTER: https://www.twitter.com/GibiOfficial (I use this the most)\\n►SHOP: https://teespring.com/stores/gibi-off...\\n►EU SHOP: https://teespring.com/stores/gibi-off...\\n►GAMING CHANNEL: https://goo.gl/a75KLT\\n►TWITCH/LIVESTREAMING: https://www.twitch.tv/gggibi\\n------------------------------------------------------------------------------------------\\nThank you to my assistant Shawn, for editing this video!! Feel free to compliment his wonderful work anytime :D (you can find him here: https://twitter.com/MrTheVestman)\",\n",
       " \"Use my link http://audible.com/gibi or text GIBI to 500-500 to get a free book and 30 day free trial! Amazon Prime members who sign up in July get 3 months for the price of one. \\nThank you Audible for the sponsor! ...Can I read an audiobook for you pls\\nHEYYY everybody!!! Since I've switched microphones, up close ear videos have been so much more fun to make. I hope you enjoy part 2, but here's part 1 of some Deep Ear Attention if you haven't caught it: https://www.youtube.com/watch?v=CTH_c...\\nAlso LOL at me saying left for right and right for left... smh \\n-----------------------------------------------------------------------------------------\\nMy upload schedule:\\n►Every Tuesday\\n►Every Thursday\\n►Every Saturday\\n------------------------------------------------------------------------------------------\\n(💖☀️Seeking Therapy or Counseling? Try online.)\\nhttp://www.tryonlinetherapy.com/gibia... \\nI find that I get a lot of comments and messages about using ASMR for anxiety, depression, and more. I can totally relate with that, and ASMR is an awesome outlet for those things. However, if you’re interested, above is a link to a website with real, professional & licensed counselors. You can type to them, or call them! It’s actually a really cool service and I use it personally. It costs as low as $35 a week, and you don’t have to leave your house to use it. :)\\nFTC: By using my BetterHelp referral link you are supporting this channel. I receive commissions on any sales, but I only promote products I believe in. (I use this website to talk to my own personal therapist!)\\nI also donate regularly to The Brain and Behavior Research Foundation. I highly recommend it! They give grants to scientists who do studies to better understand and treat mental illnesses.\\n(http://bbrfoundation.org/)\\n------------------------------------------------------------------------------------------\\nThe last ASMR video to help me sleep: \\nhttps://www.youtube.com/watch?v=At4JD...\\nxxGibi\\n------------------------------------------------------------------------------------------\\nFind me on the internet!\\n►PATREON: https://www.patreon.com/gibiasmr\\n►INSTAGRAM: https://www.instagram.com/GibiOfficial\\n►FACEBOOK: https://www.fb.me/gibiasmr\\n►TWITTER: https://www.twitter.com/GibiOfficial (I use this the most)\\n►SHOP: https://teespring.com/stores/gibi-off...\\n►EU SHOP: https://teespring.com/stores/gibi-off...\\n►GAMING CHANNEL: https://goo.gl/a75KLT\\n►TWITCH/LIVESTREAMING: https://www.twitch.tv/gggibi\\n------------------------------------------------------------------------------------------\\nThank you to my assistant Shawn, for editing this video!! Feel free to compliment his wonderful work anytime :D (you can find him here: https://twitter.com/MrTheVestman)\",\n",
       " 'Thank you to Andreas for suggesting this video :) It is a welcome sequel to this video: https://www.youtube.com/watch?v=mHzt_... \\nThis video is intended for sleep aid/relaxation and/or visual ASMR triggers, with long triggers and close up attention. :) \\n------------------------------------------------------------------------------------------\\nMy upload schedule:\\n►Every Tuesday\\n►Every Thursday\\n►Every Saturday\\n------------------------------------------------------------------------------------------\\n(Seeking Therapy or Counseling? Try online.)\\nSide note, I find that I get a lot of comments and messages about using ASMR for anxiety, depression, and more. I can totally relate with that, and ASMR is an awesome outlet for those things. However, if you’re interested, here is a link to a website with real, professional & licensed counselors. You can type to them, or call them! It’s actually a really cool service and I use it personally. It costs as low as $35 a week, and you don’t have to leave your house to use it. :)\\nHere you go!: http://www.tryonlinetherapy.com/gibia... \\nFTC: By using my BetterHelp referral link you are supporting this channel. I receive commissions on any sales, but I only promote products I believe in. (I use this website to talk to my own personal therapist!)\\nI also donate regularly to The Brain and Behavior Research Foundation. I highly recommend it! They give grants to scientists who do studies to better understand and treat mental illnesses.\\n(http://bbrfoundation.org/)\\n------------------------------------------------------------------------------------------\\nThe last ASMR video to help me sleep: \\nhttps://www.youtube.com/watch?v=PDeLQ...\\nxxGibi\\n------------------------------------------------------------------------------------------\\nFind me on the internet!\\n►PATREON: https://www.patreon.com/gibiasmr\\n►INSTAGRAM: https://www.instagram.com/GibiOfficial\\n►FACEBOOK: https://www.fb.me/gibiasmr\\n►TWITTER: https://www.twitter.com/GibiOfficial (I use this the most)\\n►SHOP: http://gibi.bigcartel.com/\\n►GAMING CHANNEL: https://goo.gl/a75KLT\\n►TWITCH/LIVESTREAMING: twitch.tv/gggibi\\n------------------------------------------------------------------------------------------\\nArt Credit to my Twitter pal @IBGNCHaMa for my end screen!',\n",
       " \"Listen I know I'm an ASMR channel but even this was calm and gentle for me!! I hope you enjoy :)\\nTimestamps!\\n0:00 - Intro\\n1:10 - Wooden Bowls\\n9:27 - Scissors\\n13:18 - Coarse Brush\\n21:54 - Liquid Bead Mask\\n27:50 - Small Stick & Visual Triggers\\n34:20 - Hand Based Visual Triggers\\n🎵 New Audio just went up on Spotify / Apple Music!\\nListen while your phone is off :) https://open.spotify.com/artist/56r9c...\\nOr Apple Music\\nhttps://itunes.apple.com/us/artist/gi...\\n🎨Like my posters in the background? They're metal and they stick to the wall with wall-safe magnets! :D I'm partnered with Displate, so you can check out my favorite stuff and their site here (you can even match my background and upcoming backgrounds if you want!): \\nhttps://displate.com/gibiasmr?art=5c8...\\nGIBI PRIIINTS: https://displate.com/gibiasmr/officia...\\nUse code gibi15 for 15% off always ~\\n-----------------------------------------------------------------------------------------\\nMy upload schedule:\\n►Every Tuesday\\n►Every Thursday\\n►Every Saturday\\n------------------------------------------------------------------------------------------\\nI donate regularly to The Brain and Behavior Research Foundation. I highly recommend it! They give grants to scientists who do studies to better understand and treat mental illnesses.\\n(http://bbrfoundation.org/)\\n------------------------------------------------------------------------------------------\\nThe last ASMR video to help me sleep: \\nhttps://www.youtube.com/watch?v=ULXuk...\\nxxGibi\\n------------------------------------------------------------------------------------------\\nFind me on the internet!\\n►TWITCH/LIVESTREAMING: https://www.twitch.tv/gggibi\\n►TWITTER: https://www.twitter.com/GibiOfficial (I use this the most)\\n►INSTAGRAM: https://www.instagram.com/GibiOfficial\\n►MERCH/SHOP: https://teespring.com/stores/gibi-off...\\n►GAMING/SECOND CHANNEL: https://goo.gl/a75KLT\\n------------------------------------------------------------------------------------------\\nThank you to my assistant Shawn, for editing this video!! Feel free to compliment his wonderful work anytime :D (you can find him here: https://twitter.com/MrTheVestman)\",\n",
       " \"Hello everybody! Welcome to International Airlines, where you fly to exotic places, and get pampered doing it! \\nTriggers include tapping, soft speaking, overhead announcements, fabric sounds, pouring/liquid sounds, paper/pen, hot towel and tongs, ice, snacks, crinkles, etc.! Please sit back, relax, and enjoy your flight :)\\nIf you're interested in the SleepPhones I use in this video, you can get your own pair! Use my link :3 I wear them every night!!! Can attest they changed the way I sleep/watch ASMR!: http://www.shareasale.com/r.cfm?B=972...\\nWant more Flight Attendant roleplay? Here's my original: \\nhttps://www.youtube.com/watch?v=wwqnR...\\nArt Credit to my Twitter pal @IBGNCHaMa for my end screen!\\n------------------------------------------------------------------------------------------\\nSee you Thursday with a new video :)\\n------------------------------------------------------------------------------------------\\n(Seeking Therapy or Counseling? Try online.)\\nSide note, I find that I get a lot of comments and messages about using ASMR for anxiety, depression, and more. I can totally relate with that, and ASMR is an awesome outlet for those things. However, if you’re interested, here is a link to a website with real, professional & licensed counselors. You can type to them, or call them! It’s actually a really cool service and I use it personally. It costs as low as $35 a week, and you don’t have to leave your house to use it. :)\\nHere you go!: http://www.tryonlinetherapy.com/gibia... \\nFTC: By using my BetterHelp referral link you are supporting this channel. I receive commissions on any sales, but I only promote products I believe in. (I use this website to talk to my own personal therapist!)\\nI also donate regularly to The Brain and Behavior Research Foundation. I highly recommend it! They give grants to scientists who do studies to better understand and treat mental illnesses.\\n(http://bbrfoundation.org/)\\n------------------------------------------------------------------------------------------\\nThe last ASMR video to help me sleep: \\nhttps://www.youtube.com/watch?v=6rRiS...\\nxxGibi\\n------------------------------------------------------------------------------------------\\nFind me on the internet!\\nBUSINESS INQUIRIES: gbcosplay@gmail.com\\nPATREON: https://www.patreon.com/gibiasmr\\nINSTAGRAM: https://www.instagram.com/GibiOfficial\\nFACEBOOK: https://www.fb.me/gibiasmr\\nTWITTER: https://www.twitter.com/GibiOfficial (I use this the most)\\nBUY STICKERS *NEW*: http://gibi.bigcartel.com/\\n------------------------------------------------------------------------------------------\"]"
      ]
     },
     "execution_count": 32,
     "metadata": {},
     "output_type": "execute_result"
    }
   ],
   "source": [
    "gibiasmr"
   ]
  },
  {
   "cell_type": "markdown",
   "metadata": {},
   "source": [
    "### ASMR Requests"
   ]
  },
  {
   "cell_type": "code",
   "execution_count": 19,
   "metadata": {},
   "outputs": [],
   "source": [
    "def clean_requests_descriptions(description):\n",
    "    clean = []\n",
    "    for desc in description:\n",
    "        desc = desc.split('For those who are interested')[0]\n",
    "        desc = re.sub('htt.*?\\\\n','', desc)\n",
    "        desc = re.sub(r'\\\\n', ' ', desc)\n",
    "        desc = re.sub('\\W', ' ', desc)\n",
    "        desc = re.sub('\\d', ' ', desc)\n",
    "        clean.append(re.sub('\\s{2,}', ' ', desc).lower().strip().split())\n",
    "    return reduce(concat, clean)"
   ]
  },
  {
   "cell_type": "code",
   "execution_count": 20,
   "metadata": {},
   "outputs": [],
   "source": [
    "clean_requests = filter_single_letters(clean_requests_descriptions(asmrrequests))\n",
    "cleaned_descriptions[next(asmrtists_names)] = clean_requests"
   ]
  },
  {
   "cell_type": "markdown",
   "metadata": {},
   "source": [
    "### ASMR Darling"
   ]
  },
  {
   "cell_type": "code",
   "execution_count": 21,
   "metadata": {},
   "outputs": [],
   "source": [
    "def clean_darling_descriptions(description):\n",
    "    clean = []\n",
    "    for desc in description:\n",
    "        desc = desc.split('~')[0]\n",
    "        desc = re.sub('\\W', ' ', desc)\n",
    "        desc = re.sub('n*\\d', '', desc).strip()\n",
    "        clean.append(desc.replace('  ', ' ').replace('  ', ' ').split())\n",
    "    return reduce(concat, clean)"
   ]
  },
  {
   "cell_type": "code",
   "execution_count": 22,
   "metadata": {},
   "outputs": [],
   "source": [
    "clean_darling = filter_single_letters(clean_darling_descriptions(asmrdarling))\n",
    "cleaned_descriptions[next(asmrtists_names)] = clean_darling"
   ]
  },
  {
   "cell_type": "markdown",
   "metadata": {},
   "source": [
    "### ASMRsurge"
   ]
  },
  {
   "cell_type": "code",
   "execution_count": 23,
   "metadata": {},
   "outputs": [],
   "source": [
    "def clean_surge_descriptions(descriptions):\n",
    "    clean = []\n",
    "    for desc in descriptions:\n",
    "        desc = desc.split('Patreons')[0].split('Patreon')[0].split('Patron')[0]\n",
    "        desc = desc.split('notifications')[0].split('notification')[0]\n",
    "        desc = re.sub('htt.*?\\\\n','', desc)\n",
    "        desc = re.sub(\"'\", '', desc)\n",
    "        desc = re.sub(r'\\\\n', ' ', desc)\n",
    "        desc = re.sub('\\W', ' ', desc)\n",
    "        desc = re.sub('\\d', ' ', desc)\n",
    "        clean.append(re.sub('\\s{2,}', ' ', desc).lower().strip().split())\n",
    "    return reduce(concat, clean)"
   ]
  },
  {
   "cell_type": "code",
   "execution_count": 24,
   "metadata": {},
   "outputs": [],
   "source": [
    "clean_surge = clean_surge_descriptions(asmrsurge)\n",
    "clean_surge = filter_single_letters(clean_surge)\n",
    "cleaned_descriptions[next(asmrtists_names)] = clean_surge"
   ]
  },
  {
   "cell_type": "markdown",
   "metadata": {},
   "source": [
    "### Jojo's ASMR"
   ]
  },
  {
   "cell_type": "code",
   "execution_count": 25,
   "metadata": {},
   "outputs": [],
   "source": [
    "def clean_jojo_descriptions(jojo_description):\n",
    "    clean = []\n",
    "    for desc in jojo_description:\n",
    "        desc = desc.split('Instagram')[0].split('\\\\nInstagram')[0]\n",
    "        desc = re.sub('htt.*?\\\\n','', desc)\n",
    "        desc = re.sub(r'\\\\n', ' ', desc)\n",
    "        desc = re.sub('\\W', ' ', desc)\n",
    "        desc = re.sub('\\d', ' ', desc)\n",
    "        clean.append(re.sub('\\s{2,}', ' ', desc).lower().strip().split())\n",
    "    return reduce(concat, clean)"
   ]
  },
  {
   "cell_type": "code",
   "execution_count": 26,
   "metadata": {},
   "outputs": [],
   "source": [
    "clean_jojo = filter_single_letters(clean_jojo_descriptions(top_descriptions['jojo\\'sasmr']))\n",
    "cleaned_descriptions[next(asmrtists_names)] = clean_jojo"
   ]
  },
  {
   "cell_type": "markdown",
   "metadata": {},
   "source": [
    "### Zach Choi ASMR"
   ]
  },
  {
   "cell_type": "code",
   "execution_count": 27,
   "metadata": {},
   "outputs": [],
   "source": [
    "def clean_zach_descriptions(description):\n",
    "    clean = []\n",
    "    for desc in description:\n",
    "        desc = desc.split('http')[0]\n",
    "        desc = re.sub('https://.+.com/', ' ', desc)\n",
    "        desc = re.sub(r'\\\\n', ' ', desc)\n",
    "        desc = re.sub('\\W', ' ', desc)\n",
    "        desc = re.sub('\\d', ' ', desc)\n",
    "        clean.append(re.sub('\\s{2,}', ' ', desc).lower().strip().split())\n",
    "    return reduce(concat, clean)"
   ]
  },
  {
   "cell_type": "code",
   "execution_count": 28,
   "metadata": {},
   "outputs": [],
   "source": [
    "clean_zach = filter_single_letters(clean_zach_descriptions(zachchoiasmr))\n",
    "cleaned_descriptions[next(asmrtists_names)] = clean_zach"
   ]
  },
  {
   "cell_type": "code",
   "execution_count": 31,
   "metadata": {},
   "outputs": [
    {
     "data": {
      "text/plain": [
       "['most',\n",
       " 'popular',\n",
       " 'food',\n",
       " 'for',\n",
       " 'asmr',\n",
       " 'with',\n",
       " 'stephanie',\n",
       " 'soo',\n",
       " 'honeycomb',\n",
       " 'aloe',\n",
       " 'vera',\n",
       " 'tanghulu',\n",
       " 'macarons',\n",
       " 'our',\n",
       " 'video',\n",
       " 'on',\n",
       " 'stephanie',\n",
       " 'channel',\n",
       " 'asmr',\n",
       " 'most',\n",
       " 'popular',\n",
       " 'foods',\n",
       " 'for',\n",
       " 'asmr',\n",
       " 'kfc',\n",
       " 'onion',\n",
       " 'rings',\n",
       " 'mozzarella',\n",
       " 'corn',\n",
       " 'dog',\n",
       " 'chicken',\n",
       " 'nuggets',\n",
       " '먹방',\n",
       " 'check',\n",
       " 'out',\n",
       " 'my',\n",
       " 'instagram',\n",
       " 'asmr',\n",
       " 'hot',\n",
       " 'cheetos',\n",
       " 'mozzarella',\n",
       " 'corn',\n",
       " 'dogs',\n",
       " 'with',\n",
       " 'stephanie',\n",
       " 'soo',\n",
       " 'buy',\n",
       " 'my',\n",
       " 'merch',\n",
       " 'asmr',\n",
       " 'nuclear',\n",
       " 'fire',\n",
       " 'noodles',\n",
       " 'with',\n",
       " 'trisha',\n",
       " 'paytas',\n",
       " 'nikocado',\n",
       " 'avocado',\n",
       " 'no',\n",
       " 'talking',\n",
       " 'mukbang',\n",
       " '먹방',\n",
       " 'subscribe',\n",
       " 'to',\n",
       " 'nick',\n",
       " 'asmr',\n",
       " 'nuclear',\n",
       " 'fire',\n",
       " 'stretchy',\n",
       " 'cheese',\n",
       " 'chicken',\n",
       " 'wings',\n",
       " 'mukbang',\n",
       " '먹방',\n",
       " 'cooking',\n",
       " 'eating',\n",
       " 'sounds',\n",
       " 'check',\n",
       " 'out',\n",
       " 'my',\n",
       " 'instagram',\n",
       " 'subscribe',\n",
       " 'to',\n",
       " 'nikocado',\n",
       " 'avocado',\n",
       " 'expectations',\n",
       " 'vs',\n",
       " 'reality',\n",
       " 'with',\n",
       " 'hyunee',\n",
       " 'eats',\n",
       " 'nuclear',\n",
       " 'fire',\n",
       " 'noodle',\n",
       " 'mukbang',\n",
       " '먹방',\n",
       " 'subscribe',\n",
       " 'to',\n",
       " 'hyunee',\n",
       " 'check',\n",
       " 'out',\n",
       " 'anoasmrs',\n",
       " 'video',\n",
       " 'nuclear',\n",
       " 'fire',\n",
       " 'noodles',\n",
       " 'challenge',\n",
       " 'thank',\n",
       " 'you',\n",
       " 'for',\n",
       " 'million',\n",
       " 'subscribers',\n",
       " 'shop',\n",
       " 'the',\n",
       " 'coldest',\n",
       " 'water',\n",
       " 'asmr',\n",
       " 'hot',\n",
       " 'cheetos',\n",
       " 'chicken',\n",
       " 'wings',\n",
       " 'stretchy',\n",
       " 'cheese',\n",
       " 'with',\n",
       " 'trisha',\n",
       " 'paytas',\n",
       " 'mukbang',\n",
       " '먹방',\n",
       " 'subscribe',\n",
       " 'to',\n",
       " 'trisha']"
      ]
     },
     "execution_count": 31,
     "metadata": {},
     "output_type": "execute_result"
    }
   ],
   "source": [
    "clean_zach"
   ]
  },
  {
   "cell_type": "markdown",
   "metadata": {},
   "source": [
    "##### Save json file"
   ]
  },
  {
   "cell_type": "code",
   "execution_count": 29,
   "metadata": {},
   "outputs": [],
   "source": [
    "# with open('cleaned_descriptions.json', 'w') as file:\n",
    "#     json.dump(cleaned_descriptions, file)"
   ]
  }
 ],
 "metadata": {
  "kernelspec": {
   "display_name": "asmr",
   "language": "python",
   "name": "asmr"
  },
  "language_info": {
   "codemirror_mode": {
    "name": "ipython",
    "version": 3
   },
   "file_extension": ".py",
   "mimetype": "text/x-python",
   "name": "python",
   "nbconvert_exporter": "python",
   "pygments_lexer": "ipython3",
   "version": "3.7.5"
  }
 },
 "nbformat": 4,
 "nbformat_minor": 2
}
