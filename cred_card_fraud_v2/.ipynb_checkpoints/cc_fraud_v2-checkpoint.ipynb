{
 "cells": [
  {
   "cell_type": "code",
   "execution_count": 1,
   "metadata": {},
   "outputs": [],
   "source": [
    "import numpy as np\n",
    "import pandas as pd\n",
    "import matplotlib.pyplot as plt\n",
    "\n",
    "from warnings import filterwarnings"
   ]
  },
  {
   "cell_type": "code",
   "execution_count": 2,
   "metadata": {},
   "outputs": [],
   "source": [
    "filterwarnings('ignore')"
   ]
  },
  {
   "cell_type": "code",
   "execution_count": 3,
   "metadata": {},
   "outputs": [],
   "source": [
    "cc = pd.read_csv('creditcard.csv/creditcard.csv')"
   ]
  },
  {
   "cell_type": "code",
   "execution_count": 4,
   "metadata": {},
   "outputs": [
    {
     "data": {
      "text/html": [
       "<div>\n",
       "<style scoped>\n",
       "    .dataframe tbody tr th:only-of-type {\n",
       "        vertical-align: middle;\n",
       "    }\n",
       "\n",
       "    .dataframe tbody tr th {\n",
       "        vertical-align: top;\n",
       "    }\n",
       "\n",
       "    .dataframe thead th {\n",
       "        text-align: right;\n",
       "    }\n",
       "</style>\n",
       "<table border=\"1\" class=\"dataframe\">\n",
       "  <thead>\n",
       "    <tr style=\"text-align: right;\">\n",
       "      <th></th>\n",
       "      <th>Time</th>\n",
       "      <th>V1</th>\n",
       "      <th>V2</th>\n",
       "      <th>V3</th>\n",
       "      <th>V4</th>\n",
       "      <th>V5</th>\n",
       "      <th>V6</th>\n",
       "      <th>V7</th>\n",
       "      <th>V8</th>\n",
       "      <th>V9</th>\n",
       "      <th>...</th>\n",
       "      <th>V21</th>\n",
       "      <th>V22</th>\n",
       "      <th>V23</th>\n",
       "      <th>V24</th>\n",
       "      <th>V25</th>\n",
       "      <th>V26</th>\n",
       "      <th>V27</th>\n",
       "      <th>V28</th>\n",
       "      <th>Amount</th>\n",
       "      <th>Class</th>\n",
       "    </tr>\n",
       "  </thead>\n",
       "  <tbody>\n",
       "    <tr>\n",
       "      <th>0</th>\n",
       "      <td>0.0</td>\n",
       "      <td>-1.359807</td>\n",
       "      <td>-0.072781</td>\n",
       "      <td>2.536347</td>\n",
       "      <td>1.378155</td>\n",
       "      <td>-0.338321</td>\n",
       "      <td>0.462388</td>\n",
       "      <td>0.239599</td>\n",
       "      <td>0.098698</td>\n",
       "      <td>0.363787</td>\n",
       "      <td>...</td>\n",
       "      <td>-0.018307</td>\n",
       "      <td>0.277838</td>\n",
       "      <td>-0.110474</td>\n",
       "      <td>0.066928</td>\n",
       "      <td>0.128539</td>\n",
       "      <td>-0.189115</td>\n",
       "      <td>0.133558</td>\n",
       "      <td>-0.021053</td>\n",
       "      <td>149.62</td>\n",
       "      <td>0</td>\n",
       "    </tr>\n",
       "    <tr>\n",
       "      <th>1</th>\n",
       "      <td>0.0</td>\n",
       "      <td>1.191857</td>\n",
       "      <td>0.266151</td>\n",
       "      <td>0.166480</td>\n",
       "      <td>0.448154</td>\n",
       "      <td>0.060018</td>\n",
       "      <td>-0.082361</td>\n",
       "      <td>-0.078803</td>\n",
       "      <td>0.085102</td>\n",
       "      <td>-0.255425</td>\n",
       "      <td>...</td>\n",
       "      <td>-0.225775</td>\n",
       "      <td>-0.638672</td>\n",
       "      <td>0.101288</td>\n",
       "      <td>-0.339846</td>\n",
       "      <td>0.167170</td>\n",
       "      <td>0.125895</td>\n",
       "      <td>-0.008983</td>\n",
       "      <td>0.014724</td>\n",
       "      <td>2.69</td>\n",
       "      <td>0</td>\n",
       "    </tr>\n",
       "    <tr>\n",
       "      <th>2</th>\n",
       "      <td>1.0</td>\n",
       "      <td>-1.358354</td>\n",
       "      <td>-1.340163</td>\n",
       "      <td>1.773209</td>\n",
       "      <td>0.379780</td>\n",
       "      <td>-0.503198</td>\n",
       "      <td>1.800499</td>\n",
       "      <td>0.791461</td>\n",
       "      <td>0.247676</td>\n",
       "      <td>-1.514654</td>\n",
       "      <td>...</td>\n",
       "      <td>0.247998</td>\n",
       "      <td>0.771679</td>\n",
       "      <td>0.909412</td>\n",
       "      <td>-0.689281</td>\n",
       "      <td>-0.327642</td>\n",
       "      <td>-0.139097</td>\n",
       "      <td>-0.055353</td>\n",
       "      <td>-0.059752</td>\n",
       "      <td>378.66</td>\n",
       "      <td>0</td>\n",
       "    </tr>\n",
       "    <tr>\n",
       "      <th>3</th>\n",
       "      <td>1.0</td>\n",
       "      <td>-0.966272</td>\n",
       "      <td>-0.185226</td>\n",
       "      <td>1.792993</td>\n",
       "      <td>-0.863291</td>\n",
       "      <td>-0.010309</td>\n",
       "      <td>1.247203</td>\n",
       "      <td>0.237609</td>\n",
       "      <td>0.377436</td>\n",
       "      <td>-1.387024</td>\n",
       "      <td>...</td>\n",
       "      <td>-0.108300</td>\n",
       "      <td>0.005274</td>\n",
       "      <td>-0.190321</td>\n",
       "      <td>-1.175575</td>\n",
       "      <td>0.647376</td>\n",
       "      <td>-0.221929</td>\n",
       "      <td>0.062723</td>\n",
       "      <td>0.061458</td>\n",
       "      <td>123.50</td>\n",
       "      <td>0</td>\n",
       "    </tr>\n",
       "    <tr>\n",
       "      <th>4</th>\n",
       "      <td>2.0</td>\n",
       "      <td>-1.158233</td>\n",
       "      <td>0.877737</td>\n",
       "      <td>1.548718</td>\n",
       "      <td>0.403034</td>\n",
       "      <td>-0.407193</td>\n",
       "      <td>0.095921</td>\n",
       "      <td>0.592941</td>\n",
       "      <td>-0.270533</td>\n",
       "      <td>0.817739</td>\n",
       "      <td>...</td>\n",
       "      <td>-0.009431</td>\n",
       "      <td>0.798278</td>\n",
       "      <td>-0.137458</td>\n",
       "      <td>0.141267</td>\n",
       "      <td>-0.206010</td>\n",
       "      <td>0.502292</td>\n",
       "      <td>0.219422</td>\n",
       "      <td>0.215153</td>\n",
       "      <td>69.99</td>\n",
       "      <td>0</td>\n",
       "    </tr>\n",
       "  </tbody>\n",
       "</table>\n",
       "<p>5 rows × 31 columns</p>\n",
       "</div>"
      ],
      "text/plain": [
       "   Time        V1        V2        V3        V4        V5        V6        V7  \\\n",
       "0   0.0 -1.359807 -0.072781  2.536347  1.378155 -0.338321  0.462388  0.239599   \n",
       "1   0.0  1.191857  0.266151  0.166480  0.448154  0.060018 -0.082361 -0.078803   \n",
       "2   1.0 -1.358354 -1.340163  1.773209  0.379780 -0.503198  1.800499  0.791461   \n",
       "3   1.0 -0.966272 -0.185226  1.792993 -0.863291 -0.010309  1.247203  0.237609   \n",
       "4   2.0 -1.158233  0.877737  1.548718  0.403034 -0.407193  0.095921  0.592941   \n",
       "\n",
       "         V8        V9  ...       V21       V22       V23       V24       V25  \\\n",
       "0  0.098698  0.363787  ... -0.018307  0.277838 -0.110474  0.066928  0.128539   \n",
       "1  0.085102 -0.255425  ... -0.225775 -0.638672  0.101288 -0.339846  0.167170   \n",
       "2  0.247676 -1.514654  ...  0.247998  0.771679  0.909412 -0.689281 -0.327642   \n",
       "3  0.377436 -1.387024  ... -0.108300  0.005274 -0.190321 -1.175575  0.647376   \n",
       "4 -0.270533  0.817739  ... -0.009431  0.798278 -0.137458  0.141267 -0.206010   \n",
       "\n",
       "        V26       V27       V28  Amount  Class  \n",
       "0 -0.189115  0.133558 -0.021053  149.62      0  \n",
       "1  0.125895 -0.008983  0.014724    2.69      0  \n",
       "2 -0.139097 -0.055353 -0.059752  378.66      0  \n",
       "3 -0.221929  0.062723  0.061458  123.50      0  \n",
       "4  0.502292  0.219422  0.215153   69.99      0  \n",
       "\n",
       "[5 rows x 31 columns]"
      ]
     },
     "execution_count": 4,
     "metadata": {},
     "output_type": "execute_result"
    }
   ],
   "source": [
    "cc.head()"
   ]
  },
  {
   "cell_type": "markdown",
   "metadata": {},
   "source": [
    "This dataset was provided via Kaggle. The bank that posted this dataset stated:\n",
    "\n",
    "\"It [the csv] contains only numerical input variables which are the result of a PCA transformation. Unfortunately, due to confidentiality issues, we cannot provide the original features and more background information about the data. Features V1, V2, ... V28 are the principal components obtained with PCA, the only features which have not been transformed with PCA are 'Time' and 'Amount'. Feature 'Time' contains the seconds elapsed between each transaction and the first transaction in the dataset. The feature 'Amount' is the transaction Amount, this feature can be used for example-dependant cost-senstive learning. Feature 'Class' is the response variable and it takes value 1 in case of fraud and 0 otherwise.\"\n",
    "\n",
    "This indicates to me that this is clean and standardized; thus, I will not be performing any cleaning techniques."
   ]
  },
  {
   "cell_type": "code",
   "execution_count": 5,
   "metadata": {},
   "outputs": [],
   "source": [
    "import seaborn as sns"
   ]
  },
  {
   "cell_type": "code",
   "execution_count": 6,
   "metadata": {},
   "outputs": [
    {
     "name": "stdout",
     "output_type": "stream",
     "text": [
      "0    284315\n",
      "1       492\n",
      "Name: Class, dtype: int64\n"
     ]
    },
    {
     "data": {
      "image/png": "[encoded data removed]",
      "text/plain": [
       "<Figure size 432x288 with 1 Axes>"
      ]
     },
     "metadata": {
      "needs_background": "light"
     },
     "output_type": "display_data"
    }
   ],
   "source": [
    "sns.countplot(cc['Class']);\n",
    "print(cc.Class.value_counts())"
   ]
  },
  {
   "cell_type": "code",
   "execution_count": 7,
   "metadata": {},
   "outputs": [
    {
     "data": {
      "text/plain": [
       "'0.17275%'"
      ]
     },
     "execution_count": 7,
     "metadata": {},
     "output_type": "execute_result"
    }
   ],
   "source": [
    "str(round(492/(284315+492)*100, 5))+'%'"
   ]
  },
  {
   "cell_type": "markdown",
   "metadata": {},
   "source": [
    "0.17275 percent of the datapoints are fraudulent transactions. This data set needs to be balanced in order to build a model with metrics a bank could be happy using. A metric other than accuracy will have to be measured. The following example illustrates why."
   ]
  },
  {
   "cell_type": "code",
   "execution_count": 8,
   "metadata": {},
   "outputs": [],
   "source": [
    "from sklearn.dummy import DummyClassifier\n",
    "from sklearn.naive_bayes import GaussianNB\n",
    "from sklearn.model_selection import train_test_split"
   ]
  },
  {
   "cell_type": "code",
   "execution_count": 9,
   "metadata": {},
   "outputs": [],
   "source": [
    "X = cc.drop(columns='Class')\n",
    "y = cc['Class']\n",
    "X_train, X_test, y_train, y_test = train_test_split(X, y, test_size=0.2, random_state=10)\n",
    "# X_train, X_val, y_train, y_val = train_test_split(X_train, y_train, test_size= 0.25, random_state=10)"
   ]
  },
  {
   "cell_type": "code",
   "execution_count": 10,
   "metadata": {},
   "outputs": [],
   "source": [
    "cc_dum = DummyClassifier(random_state=10).fit(X_train, y_train)\n",
    "cc_nb = GaussianNB().fit(X_train, y_train)"
   ]
  },
  {
   "cell_type": "code",
   "execution_count": 11,
   "metadata": {},
   "outputs": [
    {
     "name": "stdout",
     "output_type": "stream",
     "text": [
      "Dummy Accuracy Score: 0.99666\n",
      "Unbalanced Naive Bayes Accuracy Score: 0.99243\n"
     ]
    }
   ],
   "source": [
    "print(f'Dummy Accuracy Score: {np.round(cc_dum.score(X_test, y_test), 5)}')\n",
    "print(f'Unbalanced Naive Bayes Accuracy Score: {np.round(cc_nb.score(X_test, y_test),5)}')"
   ]
  },
  {
   "cell_type": "markdown",
   "metadata": {},
   "source": [
    "Whoa!!! Those are some amazing scores, and with very little work. Mission accomplished?\n",
    "It's too good to be true. The precision and recall metrics show that the models are simply labeling everything as legitimate to get very high accuracy scores."
   ]
  },
  {
   "cell_type": "code",
   "execution_count": 12,
   "metadata": {},
   "outputs": [],
   "source": [
    "from sklearn.metrics import precision_score, recall_score, f1_score, confusion_matrix"
   ]
  },
  {
   "cell_type": "code",
   "execution_count": 13,
   "metadata": {},
   "outputs": [],
   "source": [
    "def make_pretty_metrics(model, X_test, y_test, model_name=None):\n",
    "    pred = model.predict(X_test)\n",
    "    print(f'{model_name} Accuracy: {np.round(model.score(X_test, y_test), 5)}')\n",
    "    print(f'{model_name} Precision: {np.round(precision_score(y_test, pred), 5)}')\n",
    "    print(f'{model_name} Recall: {np.round(recall_score(y_test, pred), 5)}')\n",
    "    print(f'{model_name} F1: {np.round(f1_score(y_test, pred), 5)}\\n')"
   ]
  },
  {
   "cell_type": "code",
   "execution_count": 14,
   "metadata": {},
   "outputs": [
    {
     "name": "stdout",
     "output_type": "stream",
     "text": [
      "Dummy Accuracy: 0.99666\n",
      "Dummy Precision: 0.0102\n",
      "Dummy Recall: 0.01064\n",
      "Dummy F1: 0.01042\n",
      "\n",
      "Gaussian Naive Bayes Accuracy: 0.99243\n",
      "Gaussian Naive Bayes Precision: 0.13607\n",
      "Gaussian Naive Bayes Recall: 0.67021\n",
      "Gaussian Naive Bayes F1: 0.22621\n",
      "\n"
     ]
    }
   ],
   "source": [
    "make_pretty_metrics(cc_dum, X_test, y_test, 'Dummy')\n",
    "make_pretty_metrics(cc_nb, X_test, y_test, 'Gaussian Naive Bayes')"
   ]
  },
  {
   "cell_type": "code",
   "execution_count": 15,
   "metadata": {},
   "outputs": [
    {
     "data": {
      "image/png": "[encoded data removed]",
      "text/plain": [
       "<Figure size 432x288 with 2 Axes>"
      ]
     },
     "metadata": {
      "needs_background": "light"
     },
     "output_type": "display_data"
    }
   ],
   "source": [
    "sns.heatmap(confusion_matrix(y_test, cc_dum.predict(X_test)),cmap=plt.cm.Reds, annot=True, square=True, fmt='d', \n",
    "            xticklabels=['Legitimate', 'Fraud'], yticklabels=['Legitimate', 'Fraud'])\n",
    "plt.yticks(rotation=0)\n",
    "plt.xlabel('Predictions')\n",
    "plt.ylabel('Actual', rotation=0, labelpad=30);"
   ]
  },
  {
   "cell_type": "code",
   "execution_count": 16,
   "metadata": {},
   "outputs": [
    {
     "data": {
      "image/png": "[encoded data removed]",
      "text/plain": [
       "<Figure size 432x288 with 2 Axes>"
      ]
     },
     "metadata": {
      "needs_background": "light"
     },
     "output_type": "display_data"
    }
   ],
   "source": [
    "sns.heatmap(confusion_matrix(y_test, cc_nb.predict(X_test)),cmap=plt.cm.Reds, annot=True, square=True, fmt='d',\n",
    "            xticklabels=['Legitimate', 'Fraud'], yticklabels=['Legitimate', 'Fraud'])\n",
    "plt.yticks(rotation=0)\n",
    "plt.xlabel('Predictions')\n",
    "plt.ylabel('Actual', rotation=0, labelpad=30);"
   ]
  },
  {
   "cell_type": "markdown",
   "metadata": {},
   "source": [
    "As the other metrics show, obtaining decent metrics is difficult with an imbalanced dataset. After all, the dummy accuracy is nearly 100% with the other metrics coming in close to zero. Even the Naive Bayes classifier scored very low regarding precision and f1 scores.\n",
    "\n",
    "The following steps provide four different methods for balancing the data."
   ]
  },
  {
   "cell_type": "code",
   "execution_count": 17,
   "metadata": {},
   "outputs": [],
   "source": [
    "from imblearn.over_sampling import SMOTE, ADASYN\n",
    "from imblearn.under_sampling import NearMiss"
   ]
  },
  {
   "cell_type": "code",
   "execution_count": 18,
   "metadata": {},
   "outputs": [],
   "source": [
    "smote = SMOTE(random_state=10)\n",
    "adasyn = ADASYN(random_state=10)\n",
    "nm1 = NearMiss(random_state=10)\n",
    "nm2 = NearMiss(random_state=10, version=2)"
   ]
  },
  {
   "cell_type": "code",
   "execution_count": 19,
   "metadata": {},
   "outputs": [],
   "source": [
    "X_tr_smote, y_tr_smote = smote.fit_sample(X_train, y_train) # SMOTE oversampling\n",
    "X_tr_ada, y_tr_ada = adasyn.fit_sample(X_train, y_train)    # ADASYN oversampling\n",
    "X_tr_nm1, y_tr_nm1 = nm1.fit_sample(X_train, y_train)       # NearMiss Version 1 undersampling\n",
    "X_tr_nm2, y_tr_nm2 = nm2.fit_sample(X_train, y_train)       # NearMiss Version 2 undersampling"
   ]
  },
  {
   "cell_type": "code",
   "execution_count": 20,
   "metadata": {},
   "outputs": [
    {
     "name": "stdout",
     "output_type": "stream",
     "text": [
      "Imbal_shape: (227845, 30)\n",
      "SMOTE_shape: (454894, 30)\n",
      "ADASYN_shape: (455031, 30)\n",
      "NearMiss1_shape: (796, 30)\n",
      "NearMiss2_shape: (796, 30)\n"
     ]
    }
   ],
   "source": [
    "# Displaying the size of each new training set.\n",
    "print(f'Imbal_shape: {X_train.shape}')\n",
    "print(f'SMOTE_shape: {X_tr_smote.shape}')\n",
    "print(f'ADASYN_shape: {X_tr_ada.shape}')\n",
    "print(f'NearMiss1_shape: {X_tr_nm1.shape}')\n",
    "print(f'NearMiss2_shape: {X_tr_nm2.shape}')"
   ]
  },
  {
   "cell_type": "markdown",
   "metadata": {},
   "source": [
    "__SMOTE__: Oversamples the minority class by adding points inbetween the existing monority points\n",
    "\n",
    "__ADASYN__: Oversamples by creating neighborhoods for classes that are close to each other; then new samples are generated proportional to the competing class.\n",
    "\n",
    "__NearMiss_Ver1__: Undersamples by keeping points in the majority class that are close to neaby minority points.\n",
    "\n",
    "__NearMiss_Ver2__: Undersamples by keeping points in the majority class for which average distances of the farthest instances of minority class is smallest. "
   ]
  },
  {
   "cell_type": "markdown",
   "metadata": {},
   "source": [
    "### Models to be Tested"
   ]
  },
  {
   "cell_type": "code",
   "execution_count": 21,
   "metadata": {},
   "outputs": [],
   "source": [
    "from sklearn.linear_model import LogisticRegressionCV\n",
    "from sklearn.ensemble import RandomForestClassifier, GradientBoostingClassifier\n",
    "from sklearn.naive_bayes import GaussianNB"
   ]
  },
  {
   "cell_type": "markdown",
   "metadata": {},
   "source": [
    "#### Two non-tree classifiers"
   ]
  },
  {
   "cell_type": "code",
   "execution_count": 22,
   "metadata": {},
   "outputs": [],
   "source": [
    "# Logistic Regression with Cross-Validation for each of the resampling techniques.\n",
    "log_orig = LogisticRegressionCV(cv= 5, random_state=10).fit(X_train, y_train)\n",
    "log_smote = LogisticRegressionCV(cv=5, random_state=10, class_weight='balanced').fit(X_tr_smote, y_tr_smote)\n",
    "log_ada = LogisticRegressionCV(cv=5, random_state=10, class_weight='balanced').fit(X_tr_ada, y_tr_ada)\n",
    "log_nm1 = LogisticRegressionCV(cv=5, random_state=10, class_weight='balanced').fit(X_tr_nm1, y_tr_nm1)\n",
    "log_nm2 = LogisticRegressionCV(cv=5, random_state=10, class_weight='balanced').fit(X_tr_nm2, y_tr_nm2)"
   ]
  },
  {
   "cell_type": "code",
   "execution_count": 23,
   "metadata": {},
   "outputs": [],
   "source": [
    "# Gaussian Naive Bayes for each of the resampling techniques.\n",
    "gnb_orig = GaussianNB().fit(X_train, y_train)\n",
    "gnb_smote = GaussianNB().fit(X_tr_smote, y_tr_smote)\n",
    "gnb_ada = GaussianNB().fit(X_tr_ada, y_tr_ada)\n",
    "gnb_nm1 = GaussianNB().fit(X_tr_nm1, y_tr_nm1)\n",
    "gnb_nm2 = GaussianNB().fit(X_tr_nm2, y_tr_nm2)"
   ]
  },
  {
   "cell_type": "markdown",
   "metadata": {},
   "source": [
    "#### Two tree classifiers"
   ]
  },
  {
   "cell_type": "code",
   "execution_count": 24,
   "metadata": {},
   "outputs": [],
   "source": [
    "# Random Forest Classifier for each of the resampling techniques\n",
    "rfc_orig = RandomForestClassifier(random_state=10).fit(X_train, y_train)\n",
    "rfc_smote = RandomForestClassifier(random_state=10, class_weight='balanced_subsample').fit(X_tr_smote, y_tr_smote)\n",
    "rfc_ada = RandomForestClassifier(random_state=10, class_weight='balanced_subsample').fit(X_tr_ada, y_tr_ada)\n",
    "rfc_nm1 = RandomForestClassifier(random_state=10, class_weight='balanced_subsample').fit(X_tr_nm1, y_tr_nm1)\n",
    "rfc_nm2 = RandomForestClassifier(random_state=10, class_weight='balanced_subsample').fit(X_tr_nm2, y_tr_nm2)"
   ]
  },
  {
   "cell_type": "code",
   "execution_count": 25,
   "metadata": {},
   "outputs": [],
   "source": [
    "# Gradient Boosting Classifier for each the resampling techniques\n",
    "gbc_orig = GradientBoostingClassifier(random_state=10, max_features='sqrt').fit(X_train, y_train)\n",
    "gbc_smote = GradientBoostingClassifier(random_state=10, max_features='sqrt').fit(X_tr_smote, y_tr_smote)\n",
    "gbc_ada = GradientBoostingClassifier(random_state=10, max_features='sqrt').fit(X_tr_ada, y_tr_ada)\n",
    "gbc_nm1 = GradientBoostingClassifier(random_state=10, max_features='sqrt').fit(X_tr_nm1, y_tr_nm1)\n",
    "gbc_nm2 = GradientBoostingClassifier(random_state=10, max_features='sqrt').fit(X_tr_nm2, y_tr_nm2)"
   ]
  },
  {
   "cell_type": "code",
   "execution_count": 26,
   "metadata": {},
   "outputs": [],
   "source": [
    "log_models = np.array([log_orig, log_smote, log_ada, log_nm1, log_nm2])\n",
    "gnb_models = np.array([gnb_orig, gnb_smote, gnb_ada, gnb_nm1, gnb_nm2])\n",
    "rfc_models = [rfc_orig, rfc_smote, rfc_ada, rfc_nm1, rfc_nm2]           # important not to use a numpy array.\n",
    "gbc_models = [gbc_orig, gbc_smote, gbc_ada, gbc_nm1, gbc_nm2]           # important not to use a numpy array."
   ]
  },
  {
   "cell_type": "markdown",
   "metadata": {},
   "source": [
    "### Metrics for the Models With Default Threshold:"
   ]
  },
  {
   "cell_type": "markdown",
   "metadata": {},
   "source": [
    "As someone who has worked in the banking industry, I can attest that every metrics matters.\n",
    "\n",
    "Accuracy - Pecentage of correct predictions \n",
    "\n",
    "Precision - What percentage out of those labeled as legitimate/fraud are actually legitimate/fraud \n",
    "\n",
    "Recall - What percentage out of all the legitimate/fraud transactions were identified\n",
    "\n",
    "F1 - The balance between Precision and Recall\n",
    "\n",
    "First, let's take a look at the results without optimizing for a threshold. I will select the model(s) that provide the best metrics amongst the four metrics listed above; then I will attempt to maximize the f1 score while trying to stay within a confortable close to the non-optimal threshold precision and recall"
   ]
  },
  {
   "cell_type": "markdown",
   "metadata": {},
   "source": [
    "#### Logistic Regression"
   ]
  },
  {
   "cell_type": "code",
   "execution_count": 27,
   "metadata": {},
   "outputs": [
    {
     "name": "stdout",
     "output_type": "stream",
     "text": [
      "Log_Imbal Accuracy: 0.99919\n",
      "Log_Imbal Precision: 0.875\n",
      "Log_Imbal Recall: 0.59574\n",
      "Log_Imbal F1: 0.70886\n",
      "\n",
      "Log_w_SMOTE Accuracy: 0.98675\n",
      "Log_w_SMOTE Precision: 0.10133\n",
      "Log_w_SMOTE Recall: 0.89362\n",
      "Log_w_SMOTE F1: 0.18202\n",
      "\n",
      "Log_w_ADASYN Accuracy: 0.98243\n",
      "Log_w_ADASYN Precision: 0.07814\n",
      "Log_w_ADASYN Recall: 0.89362\n",
      "Log_w_ADASYN F1: 0.14371\n",
      "\n",
      "Log_w_NM1 Accuracy: 0.81368\n",
      "Log_w_NM1 Precision: 0.00832\n",
      "Log_w_NM1 Recall: 0.94681\n",
      "Log_w_NM1 F1: 0.0165\n",
      "\n",
      "Log_w_NM2 Accuracy: 0.92481\n",
      "Log_w_NM2 Precision: 0.01972\n",
      "Log_w_NM2 Recall: 0.91489\n",
      "Log_w_NM2 F1: 0.03861\n",
      "\n"
     ]
    }
   ],
   "source": [
    "make_pretty_metrics(log_orig, X_test, y_test, 'Log_Imbal')\n",
    "make_pretty_metrics(log_smote, X_test, y_test, 'Log_w_SMOTE')\n",
    "make_pretty_metrics(log_ada, X_test, y_test, 'Log_w_ADASYN')\n",
    "make_pretty_metrics(log_nm1, X_test, y_test, 'Log_w_NM1')\n",
    "make_pretty_metrics(log_nm2, X_test, y_test, 'Log_w_NM2')"
   ]
  },
  {
   "cell_type": "markdown",
   "metadata": {},
   "source": [
    "#### Gaussian Naive Bayes"
   ]
  },
  {
   "cell_type": "code",
   "execution_count": 28,
   "metadata": {},
   "outputs": [
    {
     "name": "stdout",
     "output_type": "stream",
     "text": [
      "Gauss_Naive_Bayes_Imbal Accuracy: 0.99243\n",
      "Gauss_Naive_Bayes_Imbal Precision: 0.13607\n",
      "Gauss_Naive_Bayes_Imbal Recall: 0.67021\n",
      "Gauss_Naive_Bayes_Imbal F1: 0.22621\n",
      "\n",
      "Gauss_Naive_Bayes_SMOTE Accuracy: 0.99192\n",
      "Gauss_Naive_Bayes_SMOTE Precision: 0.14397\n",
      "Gauss_Naive_Bayes_SMOTE Recall: 0.78723\n",
      "Gauss_Naive_Bayes_SMOTE F1: 0.24342\n",
      "\n",
      "Gauss_Naive_Bayes_ADASYN Accuracy: 0.9915\n",
      "Gauss_Naive_Bayes_ADASYN Precision: 0.13889\n",
      "Gauss_Naive_Bayes_ADASYN Recall: 0.79787\n",
      "Gauss_Naive_Bayes_ADASYN F1: 0.23659\n",
      "\n",
      "Gauss_Naive_Bayes_NM1 Accuracy: 0.81391\n",
      "Gauss_Naive_Bayes_NM1 Precision: 0.00676\n",
      "Gauss_Naive_Bayes_NM1 Recall: 0.76596\n",
      "Gauss_Naive_Bayes_NM1 F1: 0.0134\n",
      "\n",
      "Gauss_Naive_Bayes_NM2 Accuracy: 0.00925\n",
      "Gauss_Naive_Bayes_NM2 Precision: 0.00166\n",
      "Gauss_Naive_Bayes_NM2 Recall: 1.0\n",
      "Gauss_Naive_Bayes_NM2 F1: 0.00332\n",
      "\n"
     ]
    }
   ],
   "source": [
    "make_pretty_metrics(gnb_orig, X_test, y_test, 'Gauss_Naive_Bayes_Imbal')\n",
    "make_pretty_metrics(gnb_smote, X_test, y_test, 'Gauss_Naive_Bayes_SMOTE')\n",
    "make_pretty_metrics(gnb_ada, X_test, y_test, 'Gauss_Naive_Bayes_ADASYN')\n",
    "make_pretty_metrics(gnb_nm1, X_test, y_test, 'Gauss_Naive_Bayes_NM1')\n",
    "make_pretty_metrics(gnb_nm2, X_test, y_test, 'Gauss_Naive_Bayes_NM2')"
   ]
  },
  {
   "cell_type": "markdown",
   "metadata": {},
   "source": [
    "#### Random Forest Classifier"
   ]
  },
  {
   "cell_type": "code",
   "execution_count": 29,
   "metadata": {},
   "outputs": [
    {
     "name": "stdout",
     "output_type": "stream",
     "text": [
      "Rand_Forest_Imbal Accuracy: 0.99961\n",
      "Rand_Forest_Imbal Precision: 0.98649\n",
      "Rand_Forest_Imbal Recall: 0.7766\n",
      "Rand_Forest_Imbal F1: 0.86905\n",
      "\n",
      "Rand_Forest_SMOTE Accuracy: 0.9996\n",
      "Rand_Forest_SMOTE Precision: 0.91765\n",
      "Rand_Forest_SMOTE Recall: 0.82979\n",
      "Rand_Forest_SMOTE F1: 0.87151\n",
      "\n",
      "Rand_Forest_ADASYN Accuracy: 0.99954\n",
      "Rand_Forest_ADASYN Precision: 0.89535\n",
      "Rand_Forest_ADASYN Recall: 0.81915\n",
      "Rand_Forest_ADASYN F1: 0.85556\n",
      "\n",
      "Rand_Forest_NM1 Accuracy: 0.86814\n",
      "Rand_Forest_NM1 Precision: 0.01146\n",
      "Rand_Forest_NM1 Recall: 0.92553\n",
      "Rand_Forest_NM1 F1: 0.02264\n",
      "\n",
      "Rand_Forest_NM2 Accuracy: 0.34283\n",
      "Rand_Forest_NM2 Precision: 0.00243\n",
      "Rand_Forest_NM2 Recall: 0.96809\n",
      "Rand_Forest_NM2 F1: 0.00484\n",
      "\n"
     ]
    }
   ],
   "source": [
    "make_pretty_metrics(rfc_orig, X_test, y_test, 'Rand_Forest_Imbal')\n",
    "make_pretty_metrics(rfc_smote, X_test, y_test, 'Rand_Forest_SMOTE')\n",
    "make_pretty_metrics(rfc_ada, X_test, y_test, 'Rand_Forest_ADASYN')\n",
    "make_pretty_metrics(rfc_nm1, X_test, y_test, 'Rand_Forest_NM1')\n",
    "make_pretty_metrics(rfc_nm2, X_test, y_test, 'Rand_Forest_NM2')"
   ]
  },
  {
   "cell_type": "markdown",
   "metadata": {},
   "source": [
    "#### Gradient Boosting Classifier"
   ]
  },
  {
   "cell_type": "code",
   "execution_count": 30,
   "metadata": {},
   "outputs": [
    {
     "name": "stdout",
     "output_type": "stream",
     "text": [
      "Grad_Boost_Imbal Accuracy: 0.99905\n",
      "Grad_Boost_Imbal Precision: 0.80303\n",
      "Grad_Boost_Imbal Recall: 0.56383\n",
      "Grad_Boost_Imbal F1: 0.6625\n",
      "\n",
      "Grad_Boost_SMOTE Accuracy: 0.99308\n",
      "Grad_Boost_SMOTE Precision: 0.17672\n",
      "Grad_Boost_SMOTE Recall: 0.87234\n",
      "Grad_Boost_SMOTE F1: 0.29391\n",
      "\n",
      "Grad_Boost_ADASYN Accuracy: 0.99285\n",
      "Grad_Boost_ADASYN Precision: 0.17732\n",
      "Grad_Boost_ADASYN Recall: 0.91489\n",
      "Grad_Boost_ADASYN F1: 0.29706\n",
      "\n",
      "Grad_Boost_NM1 Accuracy: 0.83133\n",
      "Grad_Boost_NM1 Precision: 0.00898\n",
      "Grad_Boost_NM1 Recall: 0.92553\n",
      "Grad_Boost_NM1 F1: 0.01779\n",
      "\n",
      "Grad_Boost_NM2 Accuracy: 0.31681\n",
      "Grad_Boost_NM2 Precision: 0.00238\n",
      "Grad_Boost_NM2 Recall: 0.98936\n",
      "Grad_Boost_NM2 F1: 0.00476\n",
      "\n"
     ]
    }
   ],
   "source": [
    "make_pretty_metrics(gbc_orig, X_test, y_test, 'Grad_Boost_Imbal')\n",
    "make_pretty_metrics(gbc_smote, X_test, y_test, 'Grad_Boost_SMOTE')\n",
    "make_pretty_metrics(gbc_ada, X_test, y_test, 'Grad_Boost_ADASYN')\n",
    "make_pretty_metrics(gbc_nm1, X_test, y_test, 'Grad_Boost_NM1')\n",
    "make_pretty_metrics(gbc_nm2, X_test, y_test, 'Grad_Boost_NM2')"
   ]
  },
  {
   "cell_type": "markdown",
   "metadata": {},
   "source": [
    "It appears that the undersampling techniques are much worse than the imbalanced data sets. For all the models, undersampling broght precision down to a score comparable to a dummy classifier! \n",
    "\n",
    "The random forest classifiers were the main benefactors of the oversampling. While the precsion was cut down, there were jumps in to the recall scores while keeping within 0.02 of the imbalanced f1 scores.\n",
    "\n",
    "The random forest classifier with SMOTE oversampling, and the random forest classifier with ADASYN oversampling, will be used for the final modeling and the two for which f1 optimization will be performed."
   ]
  },
  {
   "cell_type": "code",
   "execution_count": 31,
   "metadata": {},
   "outputs": [],
   "source": [
    "def get_f1_thresholds(model, thresholds, X_test, y_test, model_name=None):\n",
    "    model_test_probs = model.predict_proba(X_test)[:, 1]\n",
    "\n",
    "    f1_scores = np.array([])\n",
    "    for p in thresh_ps:\n",
    "        model_test_labels = model_test_probs > p\n",
    "        f1_scores = np.hstack((f1_scores, f1_score(y_test, model_test_labels)))\n",
    "\n",
    "        best_f1_score = np.max(f1_scores)\n",
    "        best_thresh_p = thresholds[np.argmax(f1_scores)]\n",
    "        \n",
    "    if model_name != None:    \n",
    "        print(f'{model_name}')\n",
    "    print(f'Best F1 Score: {best_f1_score}')\n",
    "    print(f'Threshold For F1 score of {best_f1_score}: {best_thresh_p}')\n",
    "    \n",
    "    return f1_scores, best_f1_score, best_thresh_p"
   ]
  },
  {
   "cell_type": "code",
   "execution_count": 32,
   "metadata": {},
   "outputs": [],
   "source": [
    "thresh_ps = np.linspace(0.1, 0.9, 5000) # This range will be the thresholds to be test for the random forest classifier"
   ]
  },
  {
   "cell_type": "code",
   "execution_count": 33,
   "metadata": {},
   "outputs": [
    {
     "name": "stdout",
     "output_type": "stream",
     "text": [
      "Rand_For_SMOTE\n",
      "Best F1 Score: 0.8735632183908046\n",
      "Threshold For F1 score of 0.8735632183908046: 0.6001000200040009\n",
      "\n",
      "\n",
      "Rand_For_Adasyn\n",
      "Best F1 Score: 0.8700564971751413\n",
      "Threshold For F1 score of 0.8700564971751413: 0.6001000200040009\n"
     ]
    }
   ],
   "source": [
    "rand_smote_f1s, rand_smote_best_f1, rand_smote_best_thresh = get_f1_thresholds(rfc_smote, thresh_ps, X_test, y_test, 'Rand_For_SMOTE')\n",
    "print('\\n')\n",
    "rand_ada_f1s, rand_ada_best_f1, rand_ada_best_thresh = get_f1_thresholds(rfc_ada, thresh_ps, X_test, y_test, 'Rand_For_Adasyn')"
   ]
  },
  {
   "cell_type": "code",
   "execution_count": 34,
   "metadata": {},
   "outputs": [
    {
     "name": "stdout",
     "output_type": "stream",
     "text": [
      "0.95\n",
      "0.8085106382978723\n",
      "0.8735632183908046\n"
     ]
    }
   ],
   "source": [
    "print(precision_score(y_test, rfc_smote.predict_proba(X_test)[:,1]>0.6001))\n",
    "print(recall_score(y_test, rfc_smote.predict_proba(X_test)[:,1]>0.6001))\n",
    "print(f1_score(y_test, rfc_smote.predict_proba(X_test)[:,1]>0.6001))"
   ]
  },
  {
   "cell_type": "code",
   "execution_count": 35,
   "metadata": {},
   "outputs": [
    {
     "name": "stdout",
     "output_type": "stream",
     "text": [
      "0.927710843373494\n",
      "0.8191489361702128\n",
      "0.8700564971751413\n"
     ]
    }
   ],
   "source": [
    "print(precision_score(y_test, rfc_ada.predict_proba(X_test)[:,1]>0.6001))\n",
    "print(recall_score(y_test, rfc_ada.predict_proba(X_test)[:,1]>0.6001))\n",
    "print(f1_score(y_test, rfc_ada.predict_proba(X_test)[:,1]>0.6001))"
   ]
  },
  {
   "cell_type": "markdown",
   "metadata": {},
   "source": [
    "Random Forest Classifer comparisons for Metrics:\n",
    "\n",
    "    SMOTE 0.5 Threshold --   Precision: 0.91765\n",
    "                             Recall: 0.82979\n",
    "                             F1: 0.87151\n",
    "                            \n",
    "    SMOTE 0.6 Threshold --   Precision: 0.95\n",
    "                             Recall: 0.80851\n",
    "                             F1: 0.87356\n",
    "                             \n",
    "    ADASYN 0.5 Threshold --  Precision: 0.89535\n",
    "                             Recall: 081915\n",
    "                             F1: 0.85556\n",
    "    \n",
    "    ADASYN 0.6 Threshold --  Precision: 0.92771\n",
    "                             Recall: 0.81915\n",
    "                             F1: 0.87006"
   ]
  },
  {
   "cell_type": "code",
   "execution_count": 36,
   "metadata": {},
   "outputs": [
    {
     "data": {
      "image/png": "[encoded data removed]",
      "text/plain": [
       "<Figure size 432x288 with 1 Axes>"
      ]
     },
     "metadata": {
      "needs_background": "light"
     },
     "output_type": "display_data"
    }
   ],
   "source": [
    "# Plotting all the threshold values against the f1 scores. (Random Forest Classifier with SMOTE oversampling)\n",
    "plt.plot(thresh_ps, rand_smote_f1s)\n",
    "plt.title('Fraud Probability Threshold vs F1 Scores')\n",
    "plt.xlabel('Probability Thresholds', labelpad=10)\n",
    "plt.ylabel('F1 \\nScores', rotation=0, labelpad=30);"
   ]
  },
  {
   "cell_type": "code",
   "execution_count": 37,
   "metadata": {},
   "outputs": [
    {
     "data": {
      "image/png": "[encoded data removed]",
      "text/plain": [
       "<Figure size 432x288 with 1 Axes>"
      ]
     },
     "metadata": {
      "needs_background": "light"
     },
     "output_type": "display_data"
    }
   ],
   "source": [
    "plt.plot(thresh_ps, rand_ada_f1s)\n",
    "plt.title('Fraud Probability Threshold vs F1 Scores')\n",
    "plt.xlabel('Probability Thresholds', labelpad=10)\n",
    "plt.ylabel('F1 \\nScores', rotation=0, labelpad=30);"
   ]
  },
  {
   "cell_type": "markdown",
   "metadata": {},
   "source": [
    "After comparing the two i will choose the random forest classifier with SMOTE oversampling and a threshold of 0.6001 as my final model while the recall score and the f1 score are comproable to the ADASYN oversampling at the same threshold, the SMOTE oversampling is high by several percentage poinst."
   ]
  },
  {
   "cell_type": "code",
   "execution_count": 38,
   "metadata": {},
   "outputs": [
    {
     "name": "stdout",
     "output_type": "stream",
     "text": [
      "Index(['V14', 'V4', 'V17', 'V10', 'V11', 'V3', 'V12', 'V16', 'V8', 'V6', 'V2',\n",
      "       'V7', 'V1', 'Time', 'V9', 'V26', 'V13', 'V23', 'Amount', 'V28', 'V5',\n",
      "       'V19', 'V24', 'V21', 'V25', 'V20', 'V15', 'V18', 'V22', 'V27'],\n",
      "      dtype='object')\n"
     ]
    }
   ],
   "source": [
    "feature_importances = pd.DataFrame(rfc_smote.feature_importances_, index = X_train.columns, columns=['importance']).sort_values('importance',  ascending=False)\n",
    "print(feature_importances.index)"
   ]
  },
  {
   "cell_type": "code",
   "execution_count": 39,
   "metadata": {},
   "outputs": [],
   "source": [
    "X_smote, y_smote = smote.fit_sample(X, y)"
   ]
  },
  {
   "cell_type": "code",
   "execution_count": 40,
   "metadata": {},
   "outputs": [],
   "source": [
    "model = RandomForestClassifier(random_state=10, class_weight='balanced_subsample').fit(X_smote, y_smote)"
   ]
  },
  {
   "cell_type": "code",
   "execution_count": 41,
   "metadata": {},
   "outputs": [],
   "source": [
    "from sklearn.model_selection import cross_validate\n",
    "model_results = cross_validate(RandomForestClassifier(random_state=10, class_weight='balanced_subsample'), X_smote, y_smote, cv=5, scoring=('precision', 'recall', 'f1'), return_train_score=True)"
   ]
  },
  {
   "cell_type": "code",
   "execution_count": 42,
   "metadata": {},
   "outputs": [
    {
     "name": "stdout",
     "output_type": "stream",
     "text": [
      "Precision Score: [0.67184583 0.99982417 0.99941996 0.99947267 0.57522992]\n",
      "Recall Score: [0.99996483 1.         0.99994724 0.99994724 0.99984172]\n",
      "F1 Score: [0.80370609 0.99991208 0.99968353 0.9997099  0.73030186]\n"
     ]
    }
   ],
   "source": [
    "print(f\"Precision Score: {model_results['test_precision']}\")\n",
    "print(f\"Recall Score: {model_results['test_recall']}\")\n",
    "print(f\"F1 Score: {model_results['test_f1']}\")"
   ]
  },
  {
   "cell_type": "code",
   "execution_count": 43,
   "metadata": {},
   "outputs": [
    {
     "name": "stdout",
     "output_type": "stream",
     "text": [
      "Precision Score: 0.849158510855915\n",
      "Recall Score: 0.9999402071645885\n",
      "F1 Score: 0.9066626912451212\n"
     ]
    }
   ],
   "source": [
    "print(f\"Precision Score: {np.mean(model_results['test_precision'])}\")\n",
    "print(f\"Recall Score: {np.mean(model_results['test_recall'])}\")\n",
    "print(f\"F1 Score: {np.mean(model_results['test_f1'])}\")"
   ]
  },
  {
   "cell_type": "markdown",
   "metadata": {},
   "source": [
    "A last cross validation check show that the metrics scores for a random forest classifier with SMOTE oversampling are off the charts."
   ]
  },
  {
   "cell_type": "code",
   "execution_count": 44,
   "metadata": {},
   "outputs": [],
   "source": [
    "import pickle"
   ]
  },
  {
   "cell_type": "code",
   "execution_count": 45,
   "metadata": {},
   "outputs": [],
   "source": [
    "# with open('cc_fraud_model.pkl', 'wb') as f:\n",
    "#     pickle.dump(model, f)"
   ]
  }
 ],
 "metadata": {
  "kernelspec": {
   "display_name": "cc_fraud",
   "language": "python",
   "name": "cc_fraud"
  },
  "language_info": {
   "codemirror_mode": {
    "name": "ipython",
    "version": 3
   },
   "file_extension": ".py",
   "mimetype": "text/x-python",
   "name": "python",
   "nbconvert_exporter": "python",
   "pygments_lexer": "ipython3",
   "version": "3.7.3"
  }
 },
 "nbformat": 4,
 "nbformat_minor": 4
}
